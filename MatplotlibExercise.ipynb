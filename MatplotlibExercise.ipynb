{
  "nbformat": 4,
  "nbformat_minor": 0,
  "metadata": {
    "colab": {
      "name": "MatplotlibExercise.ipynb",
      "provenance": [],
      "authorship_tag": "ABX9TyOapmRARsiVcduk0FPeiEiY",
      "include_colab_link": true
    },
    "kernelspec": {
      "name": "python3",
      "display_name": "Python 3"
    },
    "language_info": {
      "name": "python"
    }
  },
  "cells": [
    {
      "cell_type": "markdown",
      "metadata": {
        "id": "view-in-github",
        "colab_type": "text"
      },
      "source": [
        "<a href=\"https://colab.research.google.com/github/sydoky/MatplotlibPractice/blob/main/MatplotlibExercise.ipynb\" target=\"_parent\"><img src=\"https://colab.research.google.com/assets/colab-badge.svg\" alt=\"Open In Colab\"/></a>"
      ]
    },
    {
      "cell_type": "code",
      "metadata": {
        "id": "jTA56JjDc60N"
      },
      "source": [
        "%matplotlib inline \n",
        "import matplotlib.pyplot as plt #it's called magic line. We need this for showing me as a plot"
      ],
      "execution_count": 1,
      "outputs": []
    },
    {
      "cell_type": "code",
      "metadata": {
        "colab": {
          "base_uri": "https://localhost:8080/",
          "height": 282
        },
        "id": "L0Fso7JAd2uh",
        "outputId": "8f3bfd80-a991-414b-b144-0ae4d07ef57e"
      },
      "source": [
        "plt.plot()"
      ],
      "execution_count": 2,
      "outputs": [
        {
          "output_type": "execute_result",
          "data": {
            "text/plain": [
              "[]"
            ]
          },
          "metadata": {},
          "execution_count": 2
        },
        {
          "output_type": "display_data",
          "data": {
            "image/png": "[encoded data removed]",
            "text/plain": [
              "<Figure size 432x288 with 1 Axes>"
            ]
          },
          "metadata": {
            "needs_background": "light"
          }
        }
      ]
    },
    {
      "cell_type": "code",
      "metadata": {
        "id": "RlRK6l-uelhZ"
      },
      "source": [
        "x = [1, 2, 3, 4, 5]"
      ],
      "execution_count": 3,
      "outputs": []
    },
    {
      "cell_type": "code",
      "metadata": {
        "colab": {
          "base_uri": "https://localhost:8080/",
          "height": 167
        },
        "id": "OSZIwh6fe8Mm",
        "outputId": "637e069a-3081-42aa-fe26-7bfd1ad471c6"
      },
      "source": [
        "plt.plot(x, y)"
      ],
      "execution_count": 5,
      "outputs": [
        {
          "output_type": "error",
          "ename": "NameError",
          "evalue": "ignored",
          "traceback": [
            "\u001b[0;31m---------------------------------------------------------------------------\u001b[0m",
            "\u001b[0;31mNameError\u001b[0m                                 Traceback (most recent call last)",
            "\u001b[0;32m<ipython-input-5-d0d1dfa5badf>\u001b[0m in \u001b[0;36m<module>\u001b[0;34m()\u001b[0m\n\u001b[0;32m----> 1\u001b[0;31m \u001b[0mplt\u001b[0m\u001b[0;34m.\u001b[0m\u001b[0mplot\u001b[0m\u001b[0;34m(\u001b[0m\u001b[0mx\u001b[0m\u001b[0;34m,\u001b[0m \u001b[0my\u001b[0m\u001b[0;34m)\u001b[0m\u001b[0;34m\u001b[0m\u001b[0;34m\u001b[0m\u001b[0m\n\u001b[0m",
            "\u001b[0;31mNameError\u001b[0m: name 'y' is not defined"
          ]
        }
      ]
    },
    {
      "cell_type": "code",
      "metadata": {
        "id": "yDZqy8jXfNYd"
      },
      "source": [
        "x = [1, 2, 3, 4, 5]\n",
        "y = [6, 7, 8, 9, 10]"
      ],
      "execution_count": 6,
      "outputs": []
    },
    {
      "cell_type": "code",
      "metadata": {
        "colab": {
          "base_uri": "https://localhost:8080/",
          "height": 282
        },
        "id": "E5PcWlTCfWSW",
        "outputId": "ce0ed765-27b1-40e3-cec5-b25e14e65aeb"
      },
      "source": [
        "plt.plot(x, y)"
      ],
      "execution_count": 7,
      "outputs": [
        {
          "output_type": "execute_result",
          "data": {
            "text/plain": [
              "[<matplotlib.lines.Line2D at 0x7f2cbd174f90>]"
            ]
          },
          "metadata": {},
          "execution_count": 7
        },
        {
          "output_type": "display_data",
          "data": {
            "image/png": "[encoded data removed]",
            "text/plain": [
              "<Figure size 432x288 with 1 Axes>"
            ]
          },
          "metadata": {
            "needs_background": "light"
          }
        }
      ]
    },
    {
      "cell_type": "code",
      "metadata": {
        "colab": {
          "base_uri": "https://localhost:8080/",
          "height": 286
        },
        "id": "0Bt9_kx5fnMY",
        "outputId": "e624cab0-628b-449e-f189-c46c2dc2a875"
      },
      "source": [
        "fig=plt.figure()\n",
        "ax=fig.add_subplot()\n",
        "\n",
        "plt.show\n"
      ],
      "execution_count": 8,
      "outputs": [
        {
          "output_type": "execute_result",
          "data": {
            "text/plain": [
              "<function matplotlib.pyplot.show>"
            ]
          },
          "metadata": {},
          "execution_count": 8
        },
        {
          "output_type": "display_data",
          "data": {
            "image/png": "[encoded data removed]",
            "text/plain": [
              "<Figure size 432x288 with 1 Axes>"
            ]
          },
          "metadata": {
            "needs_background": "light"
          }
        }
      ]
    },
    {
      "cell_type": "code",
      "metadata": {
        "id": "nuUhKp9ohYce"
      },
      "source": [
        "plt.show()"
      ],
      "execution_count": 9,
      "outputs": []
    },
    {
      "cell_type": "code",
      "metadata": {
        "colab": {
          "base_uri": "https://localhost:8080/",
          "height": 286
        },
        "id": "pDQTEomxhgfB",
        "outputId": "f79a6023-db95-4f56-d52c-a041a71ebc6b"
      },
      "source": [
        "fig=plt.subplots()\n",
        "ax.plot(x,y)"
      ],
      "execution_count": 10,
      "outputs": [
        {
          "output_type": "execute_result",
          "data": {
            "text/plain": [
              "[<matplotlib.lines.Line2D at 0x7f2cbd062850>]"
            ]
          },
          "metadata": {},
          "execution_count": 10
        },
        {
          "output_type": "display_data",
          "data": {
            "image/png": "[encoded data removed]",
            "text/plain": [
              "<Figure size 432x288 with 1 Axes>"
            ]
          },
          "metadata": {
            "needs_background": "light"
          }
        }
      ]
    },
    {
      "cell_type": "code",
      "metadata": {
        "id": "p3bOe2BqiLJB"
      },
      "source": [
        "import matplotlib.pyplot as plt"
      ],
      "execution_count": 11,
      "outputs": []
    },
    {
      "cell_type": "code",
      "metadata": {
        "colab": {
          "base_uri": "https://localhost:8080/",
          "height": 347
        },
        "id": "qANqzAyhi6KV",
        "outputId": "3be9d4e1-d740-4729-c700-64a955dd9cd3"
      },
      "source": [
        "x = [1, 2, 3, 4, 5]\n",
        "y = [6, 7, 8, 9, 10]\n",
        "\n",
        "fig,ax=plt.subplots()\n",
        "ax.plot(x,y)\n",
        "\n",
        "ax.set(title=\"Pavel is a good Man\", xlabel=\"xMisha\", ylabel=\"yPavel\")\n",
        "\n"
      ],
      "execution_count": 12,
      "outputs": [
        {
          "output_type": "execute_result",
          "data": {
            "text/plain": [
              "[Text(0, 0.5, 'yPavel'),\n",
              " Text(0.5, 0, 'xMisha'),\n",
              " Text(0.5, 1.0, 'Pavel is a good Man')]"
            ]
          },
          "metadata": {},
          "execution_count": 12
        },
        {
          "output_type": "display_data",
          "data": {
            "image/png": "[encoded data removed]",
            "text/plain": [
              "<Figure size 432x288 with 1 Axes>"
            ]
          },
          "metadata": {
            "needs_background": "light"
          }
        }
      ]
    },
    {
      "cell_type": "code",
      "metadata": {
        "id": "uaNV-h0QjiJ9"
      },
      "source": [
        "fig.savefig('/content/review.PNG') "
      ],
      "execution_count": 13,
      "outputs": []
    },
    {
      "cell_type": "code",
      "metadata": {
        "id": "Rr1xzyXD7_EJ"
      },
      "source": [
        "import numpy as np"
      ],
      "execution_count": 14,
      "outputs": []
    },
    {
      "cell_type": "code",
      "metadata": {
        "id": "_yjTVHI_8BZ5"
      },
      "source": [
        "myArray = np.linspace(0, 100, 11)"
      ],
      "execution_count": 15,
      "outputs": []
    },
    {
      "cell_type": "code",
      "metadata": {
        "colab": {
          "base_uri": "https://localhost:8080/"
        },
        "id": "bI_7f3BO-4PF",
        "outputId": "fc7072fc-807d-4ac4-98b9-33a56617b64a"
      },
      "source": [
        "myArray"
      ],
      "execution_count": 16,
      "outputs": [
        {
          "output_type": "execute_result",
          "data": {
            "text/plain": [
              "array([  0.,  10.,  20.,  30.,  40.,  50.,  60.,  70.,  80.,  90., 100.])"
            ]
          },
          "metadata": {},
          "execution_count": 16
        }
      ]
    },
    {
      "cell_type": "code",
      "metadata": {
        "colab": {
          "base_uri": "https://localhost:8080/",
          "height": 264
        },
        "id": "f4BJtxGt_CKy",
        "outputId": "f4b1ec7c-798f-41b2-9c9f-9a974f246ead"
      },
      "source": [
        "fig,ax = plt.subplots()  # I have to use fig and ax because object orientied (OO) method\n",
        "ax.plot(myArray, myArray** 2);"
      ],
      "execution_count": 17,
      "outputs": [
        {
          "output_type": "display_data",
          "data": {
            "image/png": "[encoded data removed]",
            "text/plain": [
              "<Figure size 432x288 with 1 Axes>"
            ]
          },
          "metadata": {
            "needs_background": "light"
          }
        }
      ]
    },
    {
      "cell_type": "code",
      "metadata": {
        "colab": {
          "base_uri": "https://localhost:8080/",
          "height": 293
        },
        "id": "5Ho7odJyAsa1",
        "outputId": "5e59bd62-a8a6-4418-d368-70cb22a3dd49"
      },
      "source": [
        "fig,ax=plt.subplots()\n",
        "ax.scatter(myArray, np.exp(myArray))"
      ],
      "execution_count": 18,
      "outputs": [
        {
          "output_type": "execute_result",
          "data": {
            "text/plain": [
              "<matplotlib.collections.PathCollection at 0x7f2cbcf80710>"
            ]
          },
          "metadata": {},
          "execution_count": 18
        },
        {
          "output_type": "display_data",
          "data": {
            "image/png": "[encoded data removed]",
            "text/plain": [
              "<Figure size 432x288 with 1 Axes>"
            ]
          },
          "metadata": {
            "needs_background": "light"
          }
        }
      ]
    },
    {
      "cell_type": "code",
      "metadata": {
        "colab": {
          "base_uri": "https://localhost:8080/",
          "height": 285
        },
        "id": "0poDNXUsBaKu",
        "outputId": "dcaabc67-4bbf-4918-94ee-e06b02eb2ff2"
      },
      "source": [
        "fig,ax=plt.subplots()\n",
        "ax.scatter(myArray, np.sin(myArray))"
      ],
      "execution_count": 19,
      "outputs": [
        {
          "output_type": "execute_result",
          "data": {
            "text/plain": [
              "<matplotlib.collections.PathCollection at 0x7f2cbcf72090>"
            ]
          },
          "metadata": {},
          "execution_count": 19
        },
        {
          "output_type": "display_data",
          "data": {
            "image/png": "[encoded data removed]",
            "text/plain": [
              "<Figure size 432x288 with 1 Axes>"
            ]
          },
          "metadata": {
            "needs_background": "light"
          }
        }
      ]
    },
    {
      "cell_type": "code",
      "metadata": {
        "id": "zquhDGfzZ9aa"
      },
      "source": [
        "foods = {'biriyani': 22,\n",
        "         'Donut':2,\n",
        "         'pizza':20}"
      ],
      "execution_count": 20,
      "outputs": []
    },
    {
      "cell_type": "code",
      "metadata": {
        "colab": {
          "base_uri": "https://localhost:8080/",
          "height": 312
        },
        "id": "jlL4MiE_bHCd",
        "outputId": "d5567985-8951-4d49-bebb-3c211250a10c"
      },
      "source": [
        "fig,ax=plt.subplots()\n",
        "ax.bar(foods.keys(),foods.values());\n",
        "ax.set(title=\"Menu\", xlabel=\"food name\", ylabel=\"price\")"
      ],
      "execution_count": 21,
      "outputs": [
        {
          "output_type": "execute_result",
          "data": {
            "text/plain": [
              "[Text(0, 0.5, 'price'), Text(0.5, 0, 'food name'), Text(0.5, 1.0, 'Menu')]"
            ]
          },
          "metadata": {},
          "execution_count": 21
        },
        {
          "output_type": "display_data",
          "data": {
            "image/png": "[encoded data removed]",
            "text/plain": [
              "<Figure size 432x288 with 1 Axes>"
            ]
          },
          "metadata": {
            "needs_background": "light"
          }
        }
      ]
    },
    {
      "cell_type": "code",
      "metadata": {
        "colab": {
          "base_uri": "https://localhost:8080/",
          "height": 312
        },
        "id": "mumr-sKUc50b",
        "outputId": "574d7344-cb74-4714-a57f-747c147571fa"
      },
      "source": [
        "fig,ax=plt.subplots()\n",
        "ax.barh(list(foods.keys()),list(foods.values())); #When you are creating a horizontal bar, the argument should pass thru a list() otherwise it won't work\n",
        "ax.set(title=\"Menu\", xlabel=\"food name\", ylabel=\"price\")"
      ],
      "execution_count": 22,
      "outputs": [
        {
          "output_type": "execute_result",
          "data": {
            "text/plain": [
              "[Text(0, 0.5, 'price'), Text(0.5, 0, 'food name'), Text(0.5, 1.0, 'Menu')]"
            ]
          },
          "metadata": {},
          "execution_count": 22
        },
        {
          "output_type": "display_data",
          "data": {
            "image/png": "[encoded data removed]",
            "text/plain": [
              "<Figure size 432x288 with 1 Axes>"
            ]
          },
          "metadata": {
            "needs_background": "light"
          }
        }
      ]
    },
    {
      "cell_type": "code",
      "metadata": {
        "id": "alA4wEISnkhc"
      },
      "source": [
        "x = np.random.randn(1000)\n"
      ],
      "execution_count": 23,
      "outputs": []
    },
    {
      "cell_type": "code",
      "metadata": {
        "colab": {
          "base_uri": "https://localhost:8080/"
        },
        "id": "kBJu7-v_oJbO",
        "outputId": "90926d9e-ceed-41c3-9b23-947c9ea5b614"
      },
      "source": [
        "x"
      ],
      "execution_count": 24,
      "outputs": [
        {
          "output_type": "execute_result",
          "data": {
            "text/plain": [
              "array([-1.23256878e+00,  5.33765443e-01, -2.56308786e-01, -1.06445006e+00,\n",
              "        7.93392072e-01, -9.93549929e-01, -1.23946964e+00, -5.12887102e-01,\n",
              "       -2.34712134e-01,  5.48579048e-01, -9.32428326e-01,  2.01374698e+00,\n",
              "        2.20918169e+00,  1.45658212e+00,  1.34636812e+00, -4.25059765e-01,\n",
              "       -1.91397622e-01, -1.16942065e+00, -1.39236818e+00,  5.82138981e-01,\n",
              "       -1.21043760e+00,  1.16688653e+00, -5.51264186e-02, -2.49100513e-01,\n",
              "       -1.01787425e+00, -1.24697786e+00, -1.15245514e+00,  1.58338955e+00,\n",
              "       -6.63342864e-01, -5.60348745e-01,  2.31485401e-01,  8.70532376e-01,\n",
              "       -3.72726974e-01, -3.34113490e-01, -8.80792750e-01, -5.29635363e-02,\n",
              "       -1.03585721e+00, -4.38839427e-01,  1.70548727e+00, -8.55081674e-01,\n",
              "       -6.92051306e-01, -7.10770450e-01,  7.78658193e-01,  1.12037153e+00,\n",
              "        1.03822207e+00, -1.32589418e+00, -1.18023013e+00,  1.27668425e+00,\n",
              "        2.03075039e-01, -3.80085859e-01, -3.96341164e-01,  6.23051691e-01,\n",
              "        6.19472481e-01, -1.33934747e+00,  3.94330711e+00, -1.44690823e+00,\n",
              "       -2.10022834e+00,  3.53997508e-01,  1.66807415e+00, -9.10262270e-01,\n",
              "        4.03745487e-01,  9.21851609e-01, -2.22403347e+00,  2.61630972e+00,\n",
              "        1.68795971e-01,  4.13087267e-02, -4.21420551e-01, -8.26813933e-02,\n",
              "        2.37838164e-01,  2.28549618e+00, -3.69229231e+00,  1.84256128e+00,\n",
              "       -7.44419078e-01,  4.18216429e-01, -1.14683701e+00,  7.77520399e-01,\n",
              "       -9.35682413e-01,  1.82028640e-02, -1.13823139e+00,  6.50081924e-01,\n",
              "        7.01565246e-01,  5.07557469e-01,  7.97412230e-01, -1.02613678e+00,\n",
              "       -9.28218471e-01,  8.47155989e-01,  8.76532684e-01, -3.56685669e-01,\n",
              "       -7.69617267e-01,  8.99301964e-02, -1.40603183e+00,  4.95145093e-01,\n",
              "        6.76338531e-01,  1.55446750e+00, -1.94059384e+00,  6.91020761e-01,\n",
              "        9.22006716e-01, -3.23586727e-01, -2.19909953e+00, -1.79173694e-01,\n",
              "       -1.27408718e+00, -5.95879574e-01, -1.44661919e+00, -8.86920121e-01,\n",
              "       -1.02458043e+00, -5.90262457e-02,  1.64140746e-01, -3.18729299e-01,\n",
              "       -8.89193240e-01, -1.74198798e+00,  5.81654819e-01, -1.12339379e+00,\n",
              "        3.80707016e-01, -1.22984976e+00,  1.68294767e-01,  5.02297284e-01,\n",
              "        6.73348945e-01, -8.86439170e-03, -2.33583956e-01,  1.27271341e+00,\n",
              "        1.03285399e+00, -3.59909087e-01,  7.81505679e-01,  1.72896980e-01,\n",
              "       -2.00517958e-01, -2.05439591e-01,  6.47746334e-01, -6.89363033e-01,\n",
              "        2.86606980e-01, -1.42539495e-01, -3.06005514e-01, -2.08248948e+00,\n",
              "       -1.51413132e-01,  5.66204292e-01,  1.23652531e+00,  2.37843279e+00,\n",
              "        1.29301571e+00, -2.82582593e-01,  5.09072909e-01,  7.84981642e-01,\n",
              "       -7.17632736e-01,  1.34830950e+00, -1.81807220e-01,  1.96444631e-01,\n",
              "       -1.29075202e+00,  7.16984967e-01,  5.52179640e-01, -7.64043629e-01,\n",
              "        5.27869114e-01, -6.94651165e-01, -1.05518913e+00, -1.74306156e-01,\n",
              "       -5.94225764e-01,  1.76973758e+00, -1.51383818e+00,  7.27555990e-01,\n",
              "        7.17890052e-01,  9.93942214e-01, -3.41133818e-01, -8.50206650e-01,\n",
              "       -4.37730774e-01,  1.03068440e-01,  2.22278383e+00,  2.75855501e+00,\n",
              "       -1.29070729e+00, -2.03361969e+00,  3.64897890e-01,  1.73611063e+00,\n",
              "        3.86208033e-01, -1.55789842e+00,  5.00148101e-01,  3.44781151e-01,\n",
              "        1.30869021e+00, -9.72933558e-01,  1.27238152e-01, -5.94337727e-01,\n",
              "       -2.67787142e+00,  1.09920454e+00, -3.87917033e-01,  2.00395243e+00,\n",
              "       -2.20424098e+00,  3.23512362e-01,  4.75050613e-01, -2.09145026e+00,\n",
              "        4.84398187e-01, -5.98611922e-01, -1.13440359e+00,  1.03481696e+00,\n",
              "        1.22531381e+00,  1.71194136e+00, -4.84398988e-01, -7.67101914e-01,\n",
              "        7.86894138e-01, -7.01183879e-01, -1.25876075e+00, -4.32878154e-01,\n",
              "        4.69760917e-01, -8.40290911e-01,  1.02476644e+00, -4.72794690e-02,\n",
              "        4.01721869e-01, -8.51023554e-02,  1.34877117e-01, -6.14123934e-01,\n",
              "       -5.39851400e-01, -6.05839713e-01, -3.13398133e-01,  1.28110513e-01,\n",
              "        1.99123364e+00,  9.69586711e-01, -1.16625419e+00, -1.52644694e-01,\n",
              "        3.47192752e-01,  4.30604292e-01,  2.34147009e+00, -1.35619225e+00,\n",
              "       -4.13838243e-01, -4.37960175e-01,  9.06136031e-01,  5.24283465e-01,\n",
              "        1.96186502e+00, -7.38760009e-01, -2.32767837e-01,  1.08443292e+00,\n",
              "       -3.57698312e-01, -1.05313217e+00, -4.13780672e-02, -9.13884255e-01,\n",
              "        9.26534580e-01, -2.23101954e+00, -3.07645709e-01, -6.10132527e-01,\n",
              "        6.98280943e-02,  5.45029295e-01,  1.75476224e-01, -1.88183934e+00,\n",
              "       -1.11153452e+00,  2.81119424e+00,  1.40906352e+00,  3.62743098e+00,\n",
              "       -4.10623122e-02, -1.25369960e+00, -1.32060623e+00,  1.19431258e+00,\n",
              "        5.12912831e-01, -1.73533395e+00,  1.61807211e-01,  1.22784453e+00,\n",
              "       -7.14665969e-01,  1.03711366e+00,  7.27553672e-01,  7.32829670e-01,\n",
              "       -7.81107949e-01,  1.49241000e-01,  1.06494912e+00,  3.09251233e-01,\n",
              "        8.38683069e-01, -1.40694666e+00,  2.32986386e-01, -3.48650994e-01,\n",
              "        1.86866488e-02, -9.64286371e-01, -1.51279066e+00, -1.58055391e-01,\n",
              "        3.72086833e-01,  4.19045108e-01, -2.67720528e+00,  7.78393280e-01,\n",
              "        2.42241287e-01,  8.91899340e-01, -4.89276711e-01,  2.10095268e+00,\n",
              "        4.62588794e-01,  1.20911138e+00,  1.07636413e-01, -3.93531965e-01,\n",
              "       -1.22514165e+00, -4.80864046e-01, -3.49259988e-03, -3.03085988e+00,\n",
              "        4.29635964e-01,  9.57466987e-02,  1.86316683e+00, -3.89537686e-01,\n",
              "        5.41703387e-01, -5.96670291e-01,  2.85405222e-01,  5.90389716e-01,\n",
              "       -2.47008444e-01,  7.57234042e-01,  4.59367285e-01,  3.83499961e-01,\n",
              "       -8.57518324e-01, -1.09684296e+00, -4.65210117e-01, -4.18554409e-02,\n",
              "        6.83095211e-01,  3.43702881e-01,  2.85996093e-01,  5.64143075e-01,\n",
              "        4.33069536e-01,  1.66997693e-01, -1.40002579e+00,  5.24436386e-01,\n",
              "       -5.39016783e-01,  2.77107729e-01,  2.22897348e+00,  1.24308703e+00,\n",
              "       -7.94364410e-01,  8.02224260e-01,  8.85013994e-01, -4.65405789e-01,\n",
              "        4.44587802e-01, -4.76887240e-01,  1.06660268e+00, -1.63886336e+00,\n",
              "        2.97336512e-01,  8.80690882e-01, -6.58377962e-01, -9.45697689e-01,\n",
              "       -5.14076231e-01, -6.97177430e-01, -5.15131204e-01, -1.15469210e+00,\n",
              "        1.42913695e+00, -2.24053000e+00, -1.19148527e-01,  9.80995763e-01,\n",
              "       -8.70091323e-01, -1.67631435e+00,  1.64851793e+00, -7.89699316e-01,\n",
              "        1.29046652e+00,  5.38360068e-01,  2.25372796e+00, -3.44136447e-01,\n",
              "        7.02373405e-01,  7.24356640e-01, -5.74513113e-01,  6.39290222e-01,\n",
              "        3.24309760e-01, -5.74597365e-01,  6.84437818e-01, -1.68403293e+00,\n",
              "       -1.58161178e-01,  9.52819689e-01, -2.65269228e+00,  1.38912480e+00,\n",
              "       -2.43739030e+00, -7.07639238e-01, -2.87974472e-01,  1.07303994e+00,\n",
              "        1.04096287e+00, -1.38905183e-01,  1.73651480e+00,  3.12822882e-01,\n",
              "       -5.98948052e-01,  1.40868158e+00, -1.95460163e-01,  6.34356502e-01,\n",
              "       -6.28759612e-01, -9.51163184e-01,  1.25231773e-01, -1.34626411e+00,\n",
              "       -1.17254556e+00, -5.38273957e-02,  1.02198685e+00, -1.57861833e-01,\n",
              "       -1.48861273e-01, -4.17502008e-01,  2.56993190e-01,  8.69295091e-02,\n",
              "       -9.67972779e-01, -6.12348638e-01, -8.10148137e-01,  6.98450276e-01,\n",
              "       -5.27730794e-01,  5.16345232e-01, -9.18704973e-01, -6.72345791e-01,\n",
              "        8.01311260e-01,  4.10163928e-01, -7.88596397e-01, -1.54273828e+00,\n",
              "       -2.39021813e-01,  2.22249037e-01,  1.18010922e+00, -1.24370053e-01,\n",
              "       -4.92769677e-01,  3.65986848e-01, -6.79000532e-01, -4.39920058e-01,\n",
              "        3.56074224e-01,  2.31100384e-01,  2.12905169e-01,  2.14965474e-02,\n",
              "       -8.62498328e-01, -1.00828996e-01, -2.67928151e+00,  2.25401994e-01,\n",
              "       -5.59755017e-01, -2.38226974e-01,  1.46731505e+00,  1.88777108e-01,\n",
              "       -1.21866871e+00,  1.11395636e+00,  6.28499481e-01,  1.05358994e+00,\n",
              "        6.13780992e-01,  9.36815413e-01, -5.87893564e-01, -2.11883212e+00,\n",
              "       -3.59898688e-01,  2.38989929e-01, -1.81671444e+00, -3.47017412e-01,\n",
              "        5.07145231e-01, -1.29186079e+00,  9.07239305e-01,  1.55399753e-02,\n",
              "        7.62897349e-01, -3.46028669e-01, -7.92016712e-01, -2.79480721e-01,\n",
              "        6.89506725e-01, -5.60673730e-01, -2.19039514e+00,  8.51878451e-01,\n",
              "        5.93908509e-01,  1.74616704e-01,  7.16376430e-01,  1.14991830e+00,\n",
              "        1.24578399e+00, -6.16816445e-01,  1.44775902e-01,  2.63946751e+00,\n",
              "        9.77955590e-01,  3.53547176e-01,  2.12047779e+00,  2.33280412e-01,\n",
              "        1.60803025e-01, -1.09066926e+00, -3.84552991e-01, -6.33080532e-01,\n",
              "        1.52711684e+00, -1.52183464e-01,  4.86232081e-03, -8.16283500e-01,\n",
              "        5.92273697e-01,  1.84667662e-01,  2.44004822e-02, -1.04070759e+00,\n",
              "       -7.91634617e-01,  1.27278430e+00,  7.22228387e-01, -6.27455456e-01,\n",
              "        7.89823774e-01,  2.22091471e-01, -1.01449356e+00,  6.23941157e-02,\n",
              "       -1.23946415e+00, -4.90232181e-01, -2.06686605e-01, -1.12610610e+00,\n",
              "       -1.03825119e+00,  1.19968038e-01, -1.08198602e+00, -1.87673713e-02,\n",
              "        5.41979067e-01, -1.17797674e+00,  6.90653645e-01,  1.64317031e+00,\n",
              "       -3.85396090e-01, -5.50479193e-01,  2.24598491e-01, -9.63558476e-01,\n",
              "       -4.73612771e-02,  3.98754422e-01,  1.60712845e+00,  1.61342238e+00,\n",
              "        1.39491391e-01,  5.10259136e-01, -8.49309657e-01, -2.78329465e-01,\n",
              "        1.42100738e+00, -4.00141983e-01,  6.47011120e-01, -2.11014069e-01,\n",
              "       -1.06326416e+00,  1.16143156e+00,  2.15383278e-02,  4.70983835e-01,\n",
              "       -8.10214983e-01,  3.42162171e-03,  1.40659587e+00, -1.25235475e+00,\n",
              "       -2.70533065e-01,  1.01646879e+00,  1.60611596e+00,  7.24239065e-01,\n",
              "       -2.89807665e-01,  6.43678591e-01,  2.03436939e-01,  9.33202334e-01,\n",
              "        2.31880633e+00,  5.94623363e-01, -4.54320020e-02, -3.19564049e-01,\n",
              "        7.27181750e-01,  2.11275282e-02, -8.18158786e-02,  7.12471081e-01,\n",
              "       -1.98002767e+00,  5.39425480e-02,  4.97240624e-01, -9.86192780e-01,\n",
              "        1.43001925e-01,  1.60662776e-01, -2.41197856e+00, -1.78587428e-01,\n",
              "        3.78481745e-01,  4.88325222e-01,  1.08292016e+00,  1.84264698e-01,\n",
              "       -1.03491279e+00,  9.69410632e-01, -1.24282540e+00,  9.72361783e-01,\n",
              "        4.64761413e-01,  2.03112383e+00, -1.09934986e+00,  4.67760584e-01,\n",
              "        8.41185300e-01,  4.26344407e-01, -1.15347411e+00, -5.56378360e-01,\n",
              "        3.38809109e-02,  9.30918907e-01, -2.97771456e-01, -1.98263302e+00,\n",
              "        7.75678433e-01,  1.43637440e+00, -1.90861801e+00,  2.81160308e+00,\n",
              "        3.32808148e-01,  1.11502698e-01, -8.14335458e-01, -2.29123030e-01,\n",
              "        1.02604457e+00,  2.62028281e-01,  2.61866699e-01,  7.28503206e-01,\n",
              "        3.01885117e-01,  7.38829203e-01,  2.92242878e-01,  2.59696236e-01,\n",
              "        1.61943992e+00,  1.80469891e+00, -7.73380088e-01,  1.03564570e+00,\n",
              "        5.35861187e-01, -1.22458277e+00,  8.23377088e-01,  1.79062910e-01,\n",
              "       -4.12950205e-01, -5.66272336e-01,  1.30779788e-01, -5.83922457e-01,\n",
              "       -1.75338981e-01,  1.16392385e-02, -8.62417279e-01, -1.00481358e+00,\n",
              "       -3.61633547e-01, -1.44792090e+00,  3.13569184e-01,  1.76813723e+00,\n",
              "        9.37672472e-01,  4.44835658e-01,  9.98893233e-01, -9.25493157e-02,\n",
              "       -6.03009835e-01,  1.51929636e-01, -8.71884783e-02,  6.71339848e-01,\n",
              "        1.01486920e+00,  4.43623078e-01,  1.71227354e-01, -1.45734636e+00,\n",
              "       -1.25673001e-01,  1.04894407e-02, -4.18427176e-02, -5.99254575e-02,\n",
              "       -6.15448814e-01, -2.04249215e-01,  3.23656067e-01, -3.10929687e-01,\n",
              "        1.40960400e-01, -2.81660933e-01, -1.27609360e+00, -1.81139630e-01,\n",
              "        1.40143894e+00,  7.85765599e-01,  9.90609409e-01,  1.88291221e+00,\n",
              "       -6.58736705e-01,  8.55858774e-01,  1.18338877e+00,  3.73990851e-01,\n",
              "        1.33283730e+00, -1.59605256e+00,  2.04214965e+00, -9.44312827e-01,\n",
              "       -6.68715159e-01, -8.05246883e-01,  3.28122676e+00,  6.56154703e-01,\n",
              "       -2.57661446e-01, -3.00299347e-02,  1.45035487e+00,  1.52182276e+00,\n",
              "        1.29437997e-01, -1.27405973e-01,  1.06701948e+00,  1.42020097e-01,\n",
              "       -1.07610135e-01, -1.44444769e+00,  9.34725327e-01,  6.30500959e-01,\n",
              "       -3.83970450e-01,  1.02542287e+00,  5.18450036e-03,  3.86677534e-01,\n",
              "        2.72148424e-01,  7.82299914e-01, -1.66120136e+00,  2.59234634e-01,\n",
              "        3.18430132e-02,  2.25118405e-02, -6.67680237e-01,  1.34165354e+00,\n",
              "       -3.55567281e-02, -3.70930190e-01,  1.04876216e+00, -9.63803689e-01,\n",
              "       -7.44769367e-01, -9.73319132e-01,  1.30129012e+00, -1.01638100e+00,\n",
              "        1.66492232e+00,  2.78245164e-01,  7.92712660e-01,  2.17452230e+00,\n",
              "       -4.47172127e-01,  2.30269103e-01,  3.01843677e-01, -1.40401335e+00,\n",
              "        7.05410128e-01, -6.75130234e-01, -2.65134481e-01, -1.00641007e+00,\n",
              "        3.10887733e-01,  4.10322993e-01, -6.92738719e-01, -1.99123564e-01,\n",
              "        2.03911341e-01,  3.27122642e-01,  1.50340050e-01,  2.03253507e-01,\n",
              "        1.31228487e-01, -2.65931534e-01,  3.48246660e-01,  6.37299452e-01,\n",
              "       -1.36055259e+00, -3.64400723e-01, -5.76435935e-01,  3.96473518e-01,\n",
              "        4.92823230e-02, -1.32054383e-01,  1.73199483e-01, -4.93958991e-01,\n",
              "        4.89345543e-01, -6.43247009e-01, -5.86856275e-02, -1.12942682e+00,\n",
              "        4.58146686e-01,  1.39098806e+00,  4.43913592e-01, -3.36281575e-01,\n",
              "        1.21926116e+00, -6.55970915e-01, -1.35997452e+00, -5.25231561e-02,\n",
              "       -9.19173125e-01, -9.06270511e-02,  4.53093080e-01, -1.66112120e+00,\n",
              "        7.41450687e-01, -6.25358102e-01, -2.54173683e-01,  4.24173540e-01,\n",
              "        2.83835747e-01, -1.00104874e+00,  1.78226371e+00, -7.51171168e-01,\n",
              "       -2.08866601e-01,  1.34771986e-02, -5.68975385e-01,  9.77776430e-01,\n",
              "        6.63410635e-01,  1.56109756e-01,  7.99387274e-01,  1.37559784e+00,\n",
              "       -1.74170300e+00, -1.37231984e-01,  1.35410261e+00, -4.29408046e-01,\n",
              "       -1.58615116e-01, -1.52317989e+00,  1.09694623e-02,  1.22615743e+00,\n",
              "        5.18744387e-01,  7.47229192e-01,  6.68340633e-01, -6.21207662e-01,\n",
              "        1.41511177e+00, -1.48213711e+00,  2.13621801e-02,  9.57015219e-01,\n",
              "       -5.21663784e-01, -1.49251275e+00, -8.76740153e-01, -6.40041429e-01,\n",
              "        3.74940938e-01,  1.47647302e-01, -9.75268314e-02, -3.75084042e-01,\n",
              "        1.46762203e+00, -1.01207749e+00,  4.51867334e-01, -7.99207397e-01,\n",
              "       -1.38114712e+00,  8.51224453e-01, -1.62485651e+00, -1.44255330e+00,\n",
              "       -3.88730130e-01,  2.56543258e+00,  2.07742121e-01,  6.76300521e-01,\n",
              "       -7.60359220e-01, -7.14053510e-01, -3.61544388e-01,  5.87338350e-01,\n",
              "        1.06465093e+00,  9.49414295e-02, -1.22393348e-01,  1.94444571e+00,\n",
              "       -2.24235532e+00, -8.46792906e-01,  7.14602859e-01,  1.83771946e+00,\n",
              "        1.71599230e-01,  4.60911327e-01, -2.98028568e-01, -2.12836661e-01,\n",
              "        6.23774449e-01,  4.80097748e-01,  2.84280091e-01,  2.82101198e-01,\n",
              "        7.10311961e-01,  3.58707796e-01,  5.65993270e-01, -5.69776831e-02,\n",
              "        1.14199271e+00,  5.51408145e-01, -9.32822336e-02, -1.11991304e+00,\n",
              "       -3.59143930e-01,  1.23128742e+00, -5.63974608e-01, -4.03491299e-01,\n",
              "       -9.16654688e-01, -1.19216862e+00,  1.23347021e-01, -2.41369539e-01,\n",
              "        2.42500540e-02,  7.28112488e-01,  1.92860691e+00,  1.32061318e+00,\n",
              "       -1.02410793e+00,  4.85157421e-01,  8.61551319e-01,  2.95449133e-01,\n",
              "       -7.83175353e-01, -1.22123226e+00,  8.29912610e-01,  6.40966146e-01,\n",
              "        7.51202749e-01,  3.23885557e-02, -1.39627449e+00, -3.31876217e-01,\n",
              "       -1.42414921e+00,  8.29467028e-01, -1.90513643e+00,  7.40483918e-01,\n",
              "       -1.28443240e-01, -5.85981645e-01,  5.44577408e-02, -8.49871695e-01,\n",
              "       -1.74800884e+00, -1.46346929e-01, -2.93235601e-01, -6.34773013e-01,\n",
              "       -7.32985969e-01,  1.40381978e+00,  1.47545438e-01,  1.96370553e-01,\n",
              "       -3.63415362e-01,  1.27008856e+00, -8.25433793e-01, -7.24475734e-01,\n",
              "        1.17441372e-01,  1.93471665e-01,  8.23679761e-01, -5.68649741e-01,\n",
              "        5.03494656e-01, -1.17751208e+00, -1.48998433e-01,  6.05042942e-01,\n",
              "        3.27724887e-01, -9.65403064e-01,  1.75589883e-01,  8.49990124e-01,\n",
              "       -6.10400713e-01, -2.11637434e+00, -2.91575710e-01,  2.43747214e-01,\n",
              "        6.41972420e-01, -9.23083728e-01,  2.37467732e-01, -1.15716464e+00,\n",
              "        1.86631024e+00,  1.13475518e+00, -4.76179179e-01, -8.52369993e-01,\n",
              "        4.34876347e-02, -2.36715367e-02, -8.00502689e-02, -9.29195691e-01,\n",
              "        2.94750330e-01,  6.11729703e-01, -1.08066003e+00,  9.45012797e-01,\n",
              "       -1.85926453e-01, -2.62693563e+00,  2.29622090e-01,  2.86622597e-01,\n",
              "       -4.95331628e-01, -4.90027208e-01, -5.55697540e-01, -2.12479328e-01,\n",
              "       -9.83993490e-01, -1.26261950e+00, -9.57633893e-01, -1.04723098e+00,\n",
              "       -5.12964984e-01, -6.84679689e-01, -1.10709604e+00, -6.17718904e-01,\n",
              "       -4.14671789e-01, -1.34580555e+00,  2.75576123e-01, -3.11392065e-01,\n",
              "        1.28199678e+00,  1.50976357e+00, -9.02203550e-01,  3.63844515e-01,\n",
              "        5.81770326e-01, -5.63456714e-02, -2.94787558e-01,  8.79601862e-01,\n",
              "       -4.63265578e-01,  4.63806387e-01,  1.50918971e-01,  6.46289725e-02,\n",
              "       -2.12113276e+00,  2.05359395e+00, -2.40454031e-02,  4.27730580e-01,\n",
              "       -4.45373472e-01,  1.70994008e+00, -2.10121213e-01, -1.18659758e+00,\n",
              "        9.15077062e-02,  1.12538586e+00,  1.21291780e+00, -5.45534257e-01,\n",
              "        7.23751068e-01,  7.71319482e-01,  2.05229317e+00,  6.62393680e-01,\n",
              "        1.82943619e+00,  1.71648921e-01,  5.62146630e-01, -6.66047022e-01,\n",
              "        5.92456605e-01, -5.37235672e-01,  5.71195578e-01,  4.69246460e-02,\n",
              "       -8.29624942e-02,  7.73691324e-01, -1.39420618e-01, -1.43589614e-01,\n",
              "        1.69720624e+00,  1.29546355e+00, -1.11931161e+00,  7.78063533e-01,\n",
              "        5.46769503e-01,  1.33877864e+00, -1.41771886e+00, -9.85421189e-01,\n",
              "        5.77720961e-01,  1.74367231e+00,  6.02251296e-01,  8.34129970e-01,\n",
              "        2.02001678e+00,  7.72124328e-01,  1.00149292e+00, -1.79948953e-01,\n",
              "        6.12277660e-01, -3.94525811e-01,  5.04905694e-01, -4.61738655e-01,\n",
              "       -1.84644578e+00, -4.39667901e-01, -9.28973655e-01, -1.17675131e+00,\n",
              "       -4.56442250e-01,  3.35388625e-01, -1.49494235e+00,  8.61038747e-01,\n",
              "       -6.71494172e-01, -1.74816983e-01,  1.59514876e+00,  8.54676396e-01,\n",
              "       -1.64319569e+00, -8.01962829e-01,  1.71585368e-01,  3.40519768e-02,\n",
              "        3.10446988e-01, -9.12377006e-02,  4.64025669e-01, -9.62274157e-01,\n",
              "       -4.73414889e-01, -8.27935768e-01, -6.58407245e-01,  1.03203376e+00,\n",
              "       -1.06846488e+00, -1.07058368e+00, -7.81523966e-01,  1.45274310e+00,\n",
              "       -6.90859549e-01, -1.98107620e+00,  1.20568517e+00,  3.06595624e-01,\n",
              "        5.06669312e-01, -1.13131468e-01,  8.15648691e-01,  1.38350625e+00,\n",
              "        2.44247129e-01, -5.27630958e-01, -3.88793499e-01, -4.83000569e-01,\n",
              "        1.27421959e+00, -1.37735611e+00,  8.46915888e-02, -8.64669992e-01,\n",
              "       -3.02262615e-01, -9.34774244e-01,  7.92762302e-01, -5.40316900e-02,\n",
              "        6.57224506e-01,  2.92029987e-01,  1.19439795e+00, -3.04296869e-01,\n",
              "        7.23518376e-01,  1.86826851e+00, -1.29698699e+00,  4.47866154e-01,\n",
              "       -6.67743171e-01, -1.38544831e+00,  6.61369523e-01, -3.78541139e-02,\n",
              "       -1.37870251e+00,  7.14353639e-01,  6.19746352e-01, -2.03531753e-02,\n",
              "       -8.24377132e-01,  2.21859717e+00,  7.99034240e-01, -2.78936102e-01])"
            ]
          },
          "metadata": {},
          "execution_count": 24
        }
      ]
    },
    {
      "cell_type": "code",
      "metadata": {
        "id": "89PQ6f3CoLr_"
      },
      "source": [
        "\n",
        "fig,ax=plt.subplots()\n",
        "ax.hist(x);"
      ],
      "execution_count": null,
      "outputs": []
    },
    {
      "cell_type": "code",
      "metadata": {
        "id": "LttDhgNupI2v"
      },
      "source": [
        "xx = np.random.randn(1000)\n"
      ],
      "execution_count": 26,
      "outputs": []
    },
    {
      "cell_type": "code",
      "metadata": {
        "colab": {
          "base_uri": "https://localhost:8080/",
          "height": 353
        },
        "id": "Pv9MulZrpT_i",
        "outputId": "df7858c7-4842-44e8-971a-5d45ed2afd89"
      },
      "source": [
        "fig, ax = plt.subplots()\n",
        "ax.hist(xx)"
      ],
      "execution_count": 27,
      "outputs": [
        {
          "output_type": "execute_result",
          "data": {
            "text/plain": [
              "(array([  1.,   4.,  64., 223., 389., 248.,  64.,   6.,   0.,   1.]),\n",
              " array([-4.40027772, -3.42516247, -2.45004721, -1.47493195, -0.4998167 ,\n",
              "         0.47529856,  1.45041382,  2.42552907,  3.40064433,  4.37575959,\n",
              "         5.35087484]),\n",
              " <a list of 10 Patch objects>)"
            ]
          },
          "metadata": {},
          "execution_count": 27
        },
        {
          "output_type": "display_data",
          "data": {
            "image/png": "[encoded data removed]",
            "text/plain": [
              "<Figure size 432x288 with 1 Axes>"
            ]
          },
          "metadata": {
            "needs_background": "light"
          }
        }
      ]
    },
    {
      "cell_type": "code",
      "metadata": {
        "colab": {
          "base_uri": "https://localhost:8080/",
          "height": 268
        },
        "id": "9mn89skxpdRa",
        "outputId": "aab14c86-cbf4-4833-f2c9-73d9e8451d32"
      },
      "source": [
        "fig,((ax1,ax2),(ax3,ax4)) = plt.subplots(nrows=2, #question number 19\n",
        "                                         ncols=2)"
      ],
      "execution_count": 28,
      "outputs": [
        {
          "output_type": "display_data",
          "data": {
            "image/png": "[encoded data removed]",
            "text/plain": [
              "<Figure size 432x288 with 4 Axes>"
            ]
          },
          "metadata": {
            "needs_background": "light"
          }
        }
      ]
    },
    {
      "cell_type": "code",
      "metadata": {
        "colab": {
          "base_uri": "https://localhost:8080/",
          "height": 408
        },
        "id": "tqpk1DuLfyrF",
        "outputId": "e14a79b5-9b85-4a78-eeea-1c09b357c214"
      },
      "source": [
        "fig,((ax1, ax2), (ax3, ax4)) = plt.subplots(nrows=2,\n",
        "                                            ncols=2,\n",
        "                                            figsize=(10,5))\n",
        "ax1.plot(x, x/2)\n",
        "\n",
        "ax2.scatter(np.random.random(10), np.random.random(10)) #we put doulbe random to generate a float number \n",
        "#(np.random.random(10)) think this one as x and y\n",
        "\n",
        "ax3.bar(foods.keys(), foods.values())\n",
        "\n",
        "ax4.hist(np.random.randn(1000)) # we do not provide y here because here we only work with x axes"
      ],
      "execution_count": 29,
      "outputs": [
        {
          "output_type": "execute_result",
          "data": {
            "text/plain": [
              "(array([  9.,  39.,  76., 146., 202., 200., 165., 108.,  42.,  13.]),\n",
              " array([-2.94886855, -2.37577852, -1.80268849, -1.22959846, -0.65650843,\n",
              "        -0.0834184 ,  0.48967163,  1.06276166,  1.63585169,  2.20894172,\n",
              "         2.78203175]),\n",
              " <a list of 10 Patch objects>)"
            ]
          },
          "metadata": {},
          "execution_count": 29
        },
        {
          "output_type": "display_data",
          "data": {
            "image/png": "[encoded data removed]",
            "text/plain": [
              "<Figure size 720x360 with 4 Axes>"
            ]
          },
          "metadata": {
            "needs_background": "light"
          }
        }
      ]
    },
    {
      "cell_type": "code",
      "metadata": {
        "id": "DPVK26iJliXO"
      },
      "source": [
        "import pandas as pd"
      ],
      "execution_count": 30,
      "outputs": []
    },
    {
      "cell_type": "code",
      "metadata": {
        "id": "0HoHjvBkpCbN"
      },
      "source": [
        "car_sales = pd.read_csv(\"/content/car-sales.csv\")"
      ],
      "execution_count": 31,
      "outputs": []
    },
    {
      "cell_type": "code",
      "metadata": {
        "colab": {
          "base_uri": "https://localhost:8080/",
          "height": 355
        },
        "id": "-EbBt_LFqfav",
        "outputId": "3f0cc4b1-6e13-4400-eb3e-ff20bebd827c"
      },
      "source": [
        "car_sales"
      ],
      "execution_count": 32,
      "outputs": [
        {
          "output_type": "execute_result",
          "data": {
            "text/html": [
              "<div>\n",
              "<style scoped>\n",
              "    .dataframe tbody tr th:only-of-type {\n",
              "        vertical-align: middle;\n",
              "    }\n",
              "\n",
              "    .dataframe tbody tr th {\n",
              "        vertical-align: top;\n",
              "    }\n",
              "\n",
              "    .dataframe thead th {\n",
              "        text-align: right;\n",
              "    }\n",
              "</style>\n",
              "<table border=\"1\" class=\"dataframe\">\n",
              "  <thead>\n",
              "    <tr style=\"text-align: right;\">\n",
              "      <th></th>\n",
              "      <th>Make</th>\n",
              "      <th>Colour</th>\n",
              "      <th>Odometer (KM)</th>\n",
              "      <th>Doors</th>\n",
              "      <th>Price</th>\n",
              "    </tr>\n",
              "  </thead>\n",
              "  <tbody>\n",
              "    <tr>\n",
              "      <th>0</th>\n",
              "      <td>Toyota</td>\n",
              "      <td>White</td>\n",
              "      <td>150043</td>\n",
              "      <td>4</td>\n",
              "      <td>$4,000.00</td>\n",
              "    </tr>\n",
              "    <tr>\n",
              "      <th>1</th>\n",
              "      <td>Honda</td>\n",
              "      <td>Red</td>\n",
              "      <td>87899</td>\n",
              "      <td>4</td>\n",
              "      <td>$5,000.00</td>\n",
              "    </tr>\n",
              "    <tr>\n",
              "      <th>2</th>\n",
              "      <td>Toyota</td>\n",
              "      <td>Blue</td>\n",
              "      <td>32549</td>\n",
              "      <td>3</td>\n",
              "      <td>$7,000.00</td>\n",
              "    </tr>\n",
              "    <tr>\n",
              "      <th>3</th>\n",
              "      <td>BMW</td>\n",
              "      <td>Black</td>\n",
              "      <td>11179</td>\n",
              "      <td>5</td>\n",
              "      <td>$22,000.00</td>\n",
              "    </tr>\n",
              "    <tr>\n",
              "      <th>4</th>\n",
              "      <td>Nissan</td>\n",
              "      <td>White</td>\n",
              "      <td>213095</td>\n",
              "      <td>4</td>\n",
              "      <td>$3,500.00</td>\n",
              "    </tr>\n",
              "    <tr>\n",
              "      <th>5</th>\n",
              "      <td>Toyota</td>\n",
              "      <td>Green</td>\n",
              "      <td>99213</td>\n",
              "      <td>4</td>\n",
              "      <td>$4,500.00</td>\n",
              "    </tr>\n",
              "    <tr>\n",
              "      <th>6</th>\n",
              "      <td>Honda</td>\n",
              "      <td>Blue</td>\n",
              "      <td>45698</td>\n",
              "      <td>4</td>\n",
              "      <td>$7,500.00</td>\n",
              "    </tr>\n",
              "    <tr>\n",
              "      <th>7</th>\n",
              "      <td>Honda</td>\n",
              "      <td>Blue</td>\n",
              "      <td>54738</td>\n",
              "      <td>4</td>\n",
              "      <td>$7,000.00</td>\n",
              "    </tr>\n",
              "    <tr>\n",
              "      <th>8</th>\n",
              "      <td>Toyota</td>\n",
              "      <td>White</td>\n",
              "      <td>60000</td>\n",
              "      <td>4</td>\n",
              "      <td>$6,250.00</td>\n",
              "    </tr>\n",
              "    <tr>\n",
              "      <th>9</th>\n",
              "      <td>Nissan</td>\n",
              "      <td>White</td>\n",
              "      <td>31600</td>\n",
              "      <td>4</td>\n",
              "      <td>$9,700.00</td>\n",
              "    </tr>\n",
              "  </tbody>\n",
              "</table>\n",
              "</div>"
            ],
            "text/plain": [
              "     Make Colour  Odometer (KM)  Doors       Price\n",
              "0  Toyota  White         150043      4   $4,000.00\n",
              "1   Honda    Red          87899      4   $5,000.00\n",
              "2  Toyota   Blue          32549      3   $7,000.00\n",
              "3     BMW  Black          11179      5  $22,000.00\n",
              "4  Nissan  White         213095      4   $3,500.00\n",
              "5  Toyota  Green          99213      4   $4,500.00\n",
              "6   Honda   Blue          45698      4   $7,500.00\n",
              "7   Honda   Blue          54738      4   $7,000.00\n",
              "8  Toyota  White          60000      4   $6,250.00\n",
              "9  Nissan  White          31600      4   $9,700.00"
            ]
          },
          "metadata": {},
          "execution_count": 32
        }
      ]
    },
    {
      "cell_type": "code",
      "metadata": {
        "colab": {
          "base_uri": "https://localhost:8080/",
          "height": 316
        },
        "id": "r-8hCe_9qm6r",
        "outputId": "852ab7f5-2644-4467-bbcb-704abb19fc43"
      },
      "source": [
        "car_sales[\"Price\"].plot()"
      ],
      "execution_count": 33,
      "outputs": [
        {
          "output_type": "error",
          "ename": "TypeError",
          "evalue": "ignored",
          "traceback": [
            "\u001b[0;31m---------------------------------------------------------------------------\u001b[0m",
            "\u001b[0;31mTypeError\u001b[0m                                 Traceback (most recent call last)",
            "\u001b[0;32m<ipython-input-33-83bf2f29b5a6>\u001b[0m in \u001b[0;36m<module>\u001b[0;34m()\u001b[0m\n\u001b[0;32m----> 1\u001b[0;31m \u001b[0mcar_sales\u001b[0m\u001b[0;34m[\u001b[0m\u001b[0;34m\"Price\"\u001b[0m\u001b[0;34m]\u001b[0m\u001b[0;34m.\u001b[0m\u001b[0mplot\u001b[0m\u001b[0;34m(\u001b[0m\u001b[0;34m)\u001b[0m\u001b[0;34m\u001b[0m\u001b[0;34m\u001b[0m\u001b[0m\n\u001b[0m",
            "\u001b[0;32m/usr/local/lib/python3.7/dist-packages/pandas/plotting/_core.py\u001b[0m in \u001b[0;36m__call__\u001b[0;34m(self, *args, **kwargs)\u001b[0m\n\u001b[1;32m    947\u001b[0m                     \u001b[0mdata\u001b[0m\u001b[0;34m.\u001b[0m\u001b[0mcolumns\u001b[0m \u001b[0;34m=\u001b[0m \u001b[0mlabel_name\u001b[0m\u001b[0;34m\u001b[0m\u001b[0;34m\u001b[0m\u001b[0m\n\u001b[1;32m    948\u001b[0m \u001b[0;34m\u001b[0m\u001b[0m\n\u001b[0;32m--> 949\u001b[0;31m         \u001b[0;32mreturn\u001b[0m \u001b[0mplot_backend\u001b[0m\u001b[0;34m.\u001b[0m\u001b[0mplot\u001b[0m\u001b[0;34m(\u001b[0m\u001b[0mdata\u001b[0m\u001b[0;34m,\u001b[0m \u001b[0mkind\u001b[0m\u001b[0;34m=\u001b[0m\u001b[0mkind\u001b[0m\u001b[0;34m,\u001b[0m \u001b[0;34m**\u001b[0m\u001b[0mkwargs\u001b[0m\u001b[0;34m)\u001b[0m\u001b[0;34m\u001b[0m\u001b[0;34m\u001b[0m\u001b[0m\n\u001b[0m\u001b[1;32m    950\u001b[0m \u001b[0;34m\u001b[0m\u001b[0m\n\u001b[1;32m    951\u001b[0m     \u001b[0m__call__\u001b[0m\u001b[0;34m.\u001b[0m\u001b[0m__doc__\u001b[0m \u001b[0;34m=\u001b[0m \u001b[0m__doc__\u001b[0m\u001b[0;34m\u001b[0m\u001b[0;34m\u001b[0m\u001b[0m\n",
            "\u001b[0;32m/usr/local/lib/python3.7/dist-packages/pandas/plotting/_matplotlib/__init__.py\u001b[0m in \u001b[0;36mplot\u001b[0;34m(data, kind, **kwargs)\u001b[0m\n\u001b[1;32m     59\u001b[0m             \u001b[0mkwargs\u001b[0m\u001b[0;34m[\u001b[0m\u001b[0;34m\"ax\"\u001b[0m\u001b[0;34m]\u001b[0m \u001b[0;34m=\u001b[0m \u001b[0mgetattr\u001b[0m\u001b[0;34m(\u001b[0m\u001b[0max\u001b[0m\u001b[0;34m,\u001b[0m \u001b[0;34m\"left_ax\"\u001b[0m\u001b[0;34m,\u001b[0m \u001b[0max\u001b[0m\u001b[0;34m)\u001b[0m\u001b[0;34m\u001b[0m\u001b[0;34m\u001b[0m\u001b[0m\n\u001b[1;32m     60\u001b[0m     \u001b[0mplot_obj\u001b[0m \u001b[0;34m=\u001b[0m \u001b[0mPLOT_CLASSES\u001b[0m\u001b[0;34m[\u001b[0m\u001b[0mkind\u001b[0m\u001b[0;34m]\u001b[0m\u001b[0;34m(\u001b[0m\u001b[0mdata\u001b[0m\u001b[0;34m,\u001b[0m \u001b[0;34m**\u001b[0m\u001b[0mkwargs\u001b[0m\u001b[0;34m)\u001b[0m\u001b[0;34m\u001b[0m\u001b[0;34m\u001b[0m\u001b[0m\n\u001b[0;32m---> 61\u001b[0;31m     \u001b[0mplot_obj\u001b[0m\u001b[0;34m.\u001b[0m\u001b[0mgenerate\u001b[0m\u001b[0;34m(\u001b[0m\u001b[0;34m)\u001b[0m\u001b[0;34m\u001b[0m\u001b[0;34m\u001b[0m\u001b[0m\n\u001b[0m\u001b[1;32m     62\u001b[0m     \u001b[0mplot_obj\u001b[0m\u001b[0;34m.\u001b[0m\u001b[0mdraw\u001b[0m\u001b[0;34m(\u001b[0m\u001b[0;34m)\u001b[0m\u001b[0;34m\u001b[0m\u001b[0;34m\u001b[0m\u001b[0m\n\u001b[1;32m     63\u001b[0m     \u001b[0;32mreturn\u001b[0m \u001b[0mplot_obj\u001b[0m\u001b[0;34m.\u001b[0m\u001b[0mresult\u001b[0m\u001b[0;34m\u001b[0m\u001b[0;34m\u001b[0m\u001b[0m\n",
            "\u001b[0;32m/usr/local/lib/python3.7/dist-packages/pandas/plotting/_matplotlib/core.py\u001b[0m in \u001b[0;36mgenerate\u001b[0;34m(self)\u001b[0m\n\u001b[1;32m    267\u001b[0m     \u001b[0;32mdef\u001b[0m \u001b[0mgenerate\u001b[0m\u001b[0;34m(\u001b[0m\u001b[0mself\u001b[0m\u001b[0;34m)\u001b[0m\u001b[0;34m:\u001b[0m\u001b[0;34m\u001b[0m\u001b[0;34m\u001b[0m\u001b[0m\n\u001b[1;32m    268\u001b[0m         \u001b[0mself\u001b[0m\u001b[0;34m.\u001b[0m\u001b[0m_args_adjust\u001b[0m\u001b[0;34m(\u001b[0m\u001b[0;34m)\u001b[0m\u001b[0;34m\u001b[0m\u001b[0;34m\u001b[0m\u001b[0m\n\u001b[0;32m--> 269\u001b[0;31m         \u001b[0mself\u001b[0m\u001b[0;34m.\u001b[0m\u001b[0m_compute_plot_data\u001b[0m\u001b[0;34m(\u001b[0m\u001b[0;34m)\u001b[0m\u001b[0;34m\u001b[0m\u001b[0;34m\u001b[0m\u001b[0m\n\u001b[0m\u001b[1;32m    270\u001b[0m         \u001b[0mself\u001b[0m\u001b[0;34m.\u001b[0m\u001b[0m_setup_subplots\u001b[0m\u001b[0;34m(\u001b[0m\u001b[0;34m)\u001b[0m\u001b[0;34m\u001b[0m\u001b[0;34m\u001b[0m\u001b[0m\n\u001b[1;32m    271\u001b[0m         \u001b[0mself\u001b[0m\u001b[0;34m.\u001b[0m\u001b[0m_make_plot\u001b[0m\u001b[0;34m(\u001b[0m\u001b[0;34m)\u001b[0m\u001b[0;34m\u001b[0m\u001b[0;34m\u001b[0m\u001b[0m\n",
            "\u001b[0;32m/usr/local/lib/python3.7/dist-packages/pandas/plotting/_matplotlib/core.py\u001b[0m in \u001b[0;36m_compute_plot_data\u001b[0;34m(self)\u001b[0m\n\u001b[1;32m    416\u001b[0m         \u001b[0;31m# no non-numeric frames or series allowed\u001b[0m\u001b[0;34m\u001b[0m\u001b[0;34m\u001b[0m\u001b[0;34m\u001b[0m\u001b[0m\n\u001b[1;32m    417\u001b[0m         \u001b[0;32mif\u001b[0m \u001b[0mis_empty\u001b[0m\u001b[0;34m:\u001b[0m\u001b[0;34m\u001b[0m\u001b[0;34m\u001b[0m\u001b[0m\n\u001b[0;32m--> 418\u001b[0;31m             \u001b[0;32mraise\u001b[0m \u001b[0mTypeError\u001b[0m\u001b[0;34m(\u001b[0m\u001b[0;34m\"no numeric data to plot\"\u001b[0m\u001b[0;34m)\u001b[0m\u001b[0;34m\u001b[0m\u001b[0;34m\u001b[0m\u001b[0m\n\u001b[0m\u001b[1;32m    419\u001b[0m \u001b[0;34m\u001b[0m\u001b[0m\n\u001b[1;32m    420\u001b[0m         \u001b[0;31m# GH25587: cast ExtensionArray of pandas (IntegerArray, etc.) to\u001b[0m\u001b[0;34m\u001b[0m\u001b[0;34m\u001b[0m\u001b[0;34m\u001b[0m\u001b[0m\n",
            "\u001b[0;31mTypeError\u001b[0m: no numeric data to plot"
          ]
        }
      ]
    },
    {
      "cell_type": "code",
      "metadata": {
        "id": "9rnBmQr6q_Xn"
      },
      "source": [
        "car_sales[\"Price\"] = car_sales[\"Price\"].str.replace(\"[\\$\\,\\.]\", \"\")"
      ],
      "execution_count": 34,
      "outputs": []
    },
    {
      "cell_type": "code",
      "metadata": {
        "id": "_GKF8L4trnw4"
      },
      "source": [
        "car_sales[\"Price\"] = car_sales[\"Price\"].astype(int)"
      ],
      "execution_count": 35,
      "outputs": []
    },
    {
      "cell_type": "code",
      "metadata": {
        "colab": {
          "base_uri": "https://localhost:8080/",
          "height": 293
        },
        "id": "0VFtXo3XrrWc",
        "outputId": "b321701d-b1db-46c0-d1b9-9a859f54f4b6"
      },
      "source": [
        "car_sales[\"Price\"].plot()"
      ],
      "execution_count": 36,
      "outputs": [
        {
          "output_type": "execute_result",
          "data": {
            "text/plain": [
              "<matplotlib.axes._subplots.AxesSubplot at 0x7f2cbca489d0>"
            ]
          },
          "metadata": {},
          "execution_count": 36
        },
        {
          "output_type": "display_data",
          "data": {
            "image/png": "[encoded data removed]",
            "text/plain": [
              "<Figure size 432x288 with 1 Axes>"
            ]
          },
          "metadata": {
            "needs_background": "light"
          }
        }
      ]
    },
    {
      "cell_type": "code",
      "metadata": {
        "id": "xAR9Xf0-0K0r"
      },
      "source": [
        "car_sales[\"Total Sales\"] = car_sales[\"Price\"].cumsum()"
      ],
      "execution_count": 37,
      "outputs": []
    },
    {
      "cell_type": "code",
      "metadata": {
        "colab": {
          "base_uri": "https://localhost:8080/",
          "height": 355
        },
        "id": "hjNTpOyx0jnW",
        "outputId": "9af93587-5951-4d1b-9aeb-3bf92bfd91d6"
      },
      "source": [
        "car_sales"
      ],
      "execution_count": 38,
      "outputs": [
        {
          "output_type": "execute_result",
          "data": {
            "text/html": [
              "<div>\n",
              "<style scoped>\n",
              "    .dataframe tbody tr th:only-of-type {\n",
              "        vertical-align: middle;\n",
              "    }\n",
              "\n",
              "    .dataframe tbody tr th {\n",
              "        vertical-align: top;\n",
              "    }\n",
              "\n",
              "    .dataframe thead th {\n",
              "        text-align: right;\n",
              "    }\n",
              "</style>\n",
              "<table border=\"1\" class=\"dataframe\">\n",
              "  <thead>\n",
              "    <tr style=\"text-align: right;\">\n",
              "      <th></th>\n",
              "      <th>Make</th>\n",
              "      <th>Colour</th>\n",
              "      <th>Odometer (KM)</th>\n",
              "      <th>Doors</th>\n",
              "      <th>Price</th>\n",
              "      <th>Total Sales</th>\n",
              "    </tr>\n",
              "  </thead>\n",
              "  <tbody>\n",
              "    <tr>\n",
              "      <th>0</th>\n",
              "      <td>Toyota</td>\n",
              "      <td>White</td>\n",
              "      <td>150043</td>\n",
              "      <td>4</td>\n",
              "      <td>400000</td>\n",
              "      <td>400000</td>\n",
              "    </tr>\n",
              "    <tr>\n",
              "      <th>1</th>\n",
              "      <td>Honda</td>\n",
              "      <td>Red</td>\n",
              "      <td>87899</td>\n",
              "      <td>4</td>\n",
              "      <td>500000</td>\n",
              "      <td>900000</td>\n",
              "    </tr>\n",
              "    <tr>\n",
              "      <th>2</th>\n",
              "      <td>Toyota</td>\n",
              "      <td>Blue</td>\n",
              "      <td>32549</td>\n",
              "      <td>3</td>\n",
              "      <td>700000</td>\n",
              "      <td>1600000</td>\n",
              "    </tr>\n",
              "    <tr>\n",
              "      <th>3</th>\n",
              "      <td>BMW</td>\n",
              "      <td>Black</td>\n",
              "      <td>11179</td>\n",
              "      <td>5</td>\n",
              "      <td>2200000</td>\n",
              "      <td>3800000</td>\n",
              "    </tr>\n",
              "    <tr>\n",
              "      <th>4</th>\n",
              "      <td>Nissan</td>\n",
              "      <td>White</td>\n",
              "      <td>213095</td>\n",
              "      <td>4</td>\n",
              "      <td>350000</td>\n",
              "      <td>4150000</td>\n",
              "    </tr>\n",
              "    <tr>\n",
              "      <th>5</th>\n",
              "      <td>Toyota</td>\n",
              "      <td>Green</td>\n",
              "      <td>99213</td>\n",
              "      <td>4</td>\n",
              "      <td>450000</td>\n",
              "      <td>4600000</td>\n",
              "    </tr>\n",
              "    <tr>\n",
              "      <th>6</th>\n",
              "      <td>Honda</td>\n",
              "      <td>Blue</td>\n",
              "      <td>45698</td>\n",
              "      <td>4</td>\n",
              "      <td>750000</td>\n",
              "      <td>5350000</td>\n",
              "    </tr>\n",
              "    <tr>\n",
              "      <th>7</th>\n",
              "      <td>Honda</td>\n",
              "      <td>Blue</td>\n",
              "      <td>54738</td>\n",
              "      <td>4</td>\n",
              "      <td>700000</td>\n",
              "      <td>6050000</td>\n",
              "    </tr>\n",
              "    <tr>\n",
              "      <th>8</th>\n",
              "      <td>Toyota</td>\n",
              "      <td>White</td>\n",
              "      <td>60000</td>\n",
              "      <td>4</td>\n",
              "      <td>625000</td>\n",
              "      <td>6675000</td>\n",
              "    </tr>\n",
              "    <tr>\n",
              "      <th>9</th>\n",
              "      <td>Nissan</td>\n",
              "      <td>White</td>\n",
              "      <td>31600</td>\n",
              "      <td>4</td>\n",
              "      <td>970000</td>\n",
              "      <td>7645000</td>\n",
              "    </tr>\n",
              "  </tbody>\n",
              "</table>\n",
              "</div>"
            ],
            "text/plain": [
              "     Make Colour  Odometer (KM)  Doors    Price  Total Sales\n",
              "0  Toyota  White         150043      4   400000       400000\n",
              "1   Honda    Red          87899      4   500000       900000\n",
              "2  Toyota   Blue          32549      3   700000      1600000\n",
              "3     BMW  Black          11179      5  2200000      3800000\n",
              "4  Nissan  White         213095      4   350000      4150000\n",
              "5  Toyota  Green          99213      4   450000      4600000\n",
              "6   Honda   Blue          45698      4   750000      5350000\n",
              "7   Honda   Blue          54738      4   700000      6050000\n",
              "8  Toyota  White          60000      4   625000      6675000\n",
              "9  Nissan  White          31600      4   970000      7645000"
            ]
          },
          "metadata": {},
          "execution_count": 38
        }
      ]
    },
    {
      "cell_type": "code",
      "metadata": {
        "id": "AfsYScxb08oX"
      },
      "source": [
        "car_sales[\"Sale Date\"] = pd.date_range(\"09/23/2021\", periods=len(car_sales))  "
      ],
      "execution_count": 39,
      "outputs": []
    },
    {
      "cell_type": "code",
      "metadata": {
        "colab": {
          "base_uri": "https://localhost:8080/",
          "height": 355
        },
        "id": "4bHYlg8B22yp",
        "outputId": "64852cfd-4943-4ac2-aab9-b52a478252b4"
      },
      "source": [
        "car_sales"
      ],
      "execution_count": 40,
      "outputs": [
        {
          "output_type": "execute_result",
          "data": {
            "text/html": [
              "<div>\n",
              "<style scoped>\n",
              "    .dataframe tbody tr th:only-of-type {\n",
              "        vertical-align: middle;\n",
              "    }\n",
              "\n",
              "    .dataframe tbody tr th {\n",
              "        vertical-align: top;\n",
              "    }\n",
              "\n",
              "    .dataframe thead th {\n",
              "        text-align: right;\n",
              "    }\n",
              "</style>\n",
              "<table border=\"1\" class=\"dataframe\">\n",
              "  <thead>\n",
              "    <tr style=\"text-align: right;\">\n",
              "      <th></th>\n",
              "      <th>Make</th>\n",
              "      <th>Colour</th>\n",
              "      <th>Odometer (KM)</th>\n",
              "      <th>Doors</th>\n",
              "      <th>Price</th>\n",
              "      <th>Total Sales</th>\n",
              "      <th>Sale Date</th>\n",
              "    </tr>\n",
              "  </thead>\n",
              "  <tbody>\n",
              "    <tr>\n",
              "      <th>0</th>\n",
              "      <td>Toyota</td>\n",
              "      <td>White</td>\n",
              "      <td>150043</td>\n",
              "      <td>4</td>\n",
              "      <td>400000</td>\n",
              "      <td>400000</td>\n",
              "      <td>2021-09-23</td>\n",
              "    </tr>\n",
              "    <tr>\n",
              "      <th>1</th>\n",
              "      <td>Honda</td>\n",
              "      <td>Red</td>\n",
              "      <td>87899</td>\n",
              "      <td>4</td>\n",
              "      <td>500000</td>\n",
              "      <td>900000</td>\n",
              "      <td>2021-09-24</td>\n",
              "    </tr>\n",
              "    <tr>\n",
              "      <th>2</th>\n",
              "      <td>Toyota</td>\n",
              "      <td>Blue</td>\n",
              "      <td>32549</td>\n",
              "      <td>3</td>\n",
              "      <td>700000</td>\n",
              "      <td>1600000</td>\n",
              "      <td>2021-09-25</td>\n",
              "    </tr>\n",
              "    <tr>\n",
              "      <th>3</th>\n",
              "      <td>BMW</td>\n",
              "      <td>Black</td>\n",
              "      <td>11179</td>\n",
              "      <td>5</td>\n",
              "      <td>2200000</td>\n",
              "      <td>3800000</td>\n",
              "      <td>2021-09-26</td>\n",
              "    </tr>\n",
              "    <tr>\n",
              "      <th>4</th>\n",
              "      <td>Nissan</td>\n",
              "      <td>White</td>\n",
              "      <td>213095</td>\n",
              "      <td>4</td>\n",
              "      <td>350000</td>\n",
              "      <td>4150000</td>\n",
              "      <td>2021-09-27</td>\n",
              "    </tr>\n",
              "    <tr>\n",
              "      <th>5</th>\n",
              "      <td>Toyota</td>\n",
              "      <td>Green</td>\n",
              "      <td>99213</td>\n",
              "      <td>4</td>\n",
              "      <td>450000</td>\n",
              "      <td>4600000</td>\n",
              "      <td>2021-09-28</td>\n",
              "    </tr>\n",
              "    <tr>\n",
              "      <th>6</th>\n",
              "      <td>Honda</td>\n",
              "      <td>Blue</td>\n",
              "      <td>45698</td>\n",
              "      <td>4</td>\n",
              "      <td>750000</td>\n",
              "      <td>5350000</td>\n",
              "      <td>2021-09-29</td>\n",
              "    </tr>\n",
              "    <tr>\n",
              "      <th>7</th>\n",
              "      <td>Honda</td>\n",
              "      <td>Blue</td>\n",
              "      <td>54738</td>\n",
              "      <td>4</td>\n",
              "      <td>700000</td>\n",
              "      <td>6050000</td>\n",
              "      <td>2021-09-30</td>\n",
              "    </tr>\n",
              "    <tr>\n",
              "      <th>8</th>\n",
              "      <td>Toyota</td>\n",
              "      <td>White</td>\n",
              "      <td>60000</td>\n",
              "      <td>4</td>\n",
              "      <td>625000</td>\n",
              "      <td>6675000</td>\n",
              "      <td>2021-10-01</td>\n",
              "    </tr>\n",
              "    <tr>\n",
              "      <th>9</th>\n",
              "      <td>Nissan</td>\n",
              "      <td>White</td>\n",
              "      <td>31600</td>\n",
              "      <td>4</td>\n",
              "      <td>970000</td>\n",
              "      <td>7645000</td>\n",
              "      <td>2021-10-02</td>\n",
              "    </tr>\n",
              "  </tbody>\n",
              "</table>\n",
              "</div>"
            ],
            "text/plain": [
              "     Make Colour  Odometer (KM)  Doors    Price  Total Sales  Sale Date\n",
              "0  Toyota  White         150043      4   400000       400000 2021-09-23\n",
              "1   Honda    Red          87899      4   500000       900000 2021-09-24\n",
              "2  Toyota   Blue          32549      3   700000      1600000 2021-09-25\n",
              "3     BMW  Black          11179      5  2200000      3800000 2021-09-26\n",
              "4  Nissan  White         213095      4   350000      4150000 2021-09-27\n",
              "5  Toyota  Green          99213      4   450000      4600000 2021-09-28\n",
              "6   Honda   Blue          45698      4   750000      5350000 2021-09-29\n",
              "7   Honda   Blue          54738      4   700000      6050000 2021-09-30\n",
              "8  Toyota  White          60000      4   625000      6675000 2021-10-01\n",
              "9  Nissan  White          31600      4   970000      7645000 2021-10-02"
            ]
          },
          "metadata": {},
          "execution_count": 40
        }
      ]
    },
    {
      "cell_type": "code",
      "metadata": {
        "colab": {
          "base_uri": "https://localhost:8080/",
          "height": 332
        },
        "id": "hJ5CInMd28Jw",
        "outputId": "9cdff592-ba9b-4a4b-bdcb-594ee641f492"
      },
      "source": [
        "car_sales.plot(x=\"Sale Date\", y=\"Total Sales\")"
      ],
      "execution_count": 41,
      "outputs": [
        {
          "output_type": "execute_result",
          "data": {
            "text/plain": [
              "<matplotlib.axes._subplots.AxesSubplot at 0x7f2cbcb21b90>"
            ]
          },
          "metadata": {},
          "execution_count": 41
        },
        {
          "output_type": "display_data",
          "data": {
            "image/png": "[encoded data removed]",
            "text/plain": [
              "<Figure size 432x288 with 1 Axes>"
            ]
          },
          "metadata": {
            "needs_background": "light"
          }
        }
      ]
    },
    {
      "cell_type": "code",
      "metadata": {
        "colab": {
          "base_uri": "https://localhost:8080/"
        },
        "id": "h-aVkW1i3_Zk",
        "outputId": "17bfb10c-a807-4626-c7b4-1c17203dd7c4"
      },
      "source": [
        "car_sales.dtypes"
      ],
      "execution_count": 42,
      "outputs": [
        {
          "output_type": "execute_result",
          "data": {
            "text/plain": [
              "Make                     object\n",
              "Colour                   object\n",
              "Odometer (KM)             int64\n",
              "Doors                     int64\n",
              "Price                     int64\n",
              "Total Sales               int64\n",
              "Sale Date        datetime64[ns]\n",
              "dtype: object"
            ]
          },
          "metadata": {},
          "execution_count": 42
        }
      ]
    },
    {
      "cell_type": "code",
      "metadata": {
        "colab": {
          "base_uri": "https://localhost:8080/",
          "height": 307
        },
        "id": "tSyIKNB44kbv",
        "outputId": "3fb02a94-9e2a-4ed3-bded-dc0365834bd0"
      },
      "source": [
        "car_sales.plot(x='Odometer (KM)', y='Price', kind='scatter') #Question 27"
      ],
      "execution_count": 43,
      "outputs": [
        {
          "output_type": "execute_result",
          "data": {
            "text/plain": [
              "<matplotlib.axes._subplots.AxesSubplot at 0x7f2cbc6b9290>"
            ]
          },
          "metadata": {},
          "execution_count": 43
        },
        {
          "output_type": "display_data",
          "data": {
            "image/png": "[encoded data removed]",
            "text/plain": [
              "<Figure size 432x288 with 1 Axes>"
            ]
          },
          "metadata": {
            "needs_background": "light"
          }
        }
      ]
    },
    {
      "cell_type": "code",
      "metadata": {
        "colab": {
          "base_uri": "https://localhost:8080/",
          "height": 280
        },
        "id": "lgGb50P05TRc",
        "outputId": "c375ae11-b5f1-4125-98df-56fd2e7d6ecf"
      },
      "source": [
        "x = np.random.randn(10, 4)\n",
        "\n",
        "df = pd.DataFrame(x, columns=[\"a\", \"b\", \"c\", \"d\"])\n",
        "\n",
        "df.plot(kind=\"bar\")"
      ],
      "execution_count": 44,
      "outputs": [
        {
          "output_type": "execute_result",
          "data": {
            "text/plain": [
              "<matplotlib.axes._subplots.AxesSubplot at 0x7f2cbc5de690>"
            ]
          },
          "metadata": {},
          "execution_count": 44
        },
        {
          "output_type": "display_data",
          "data": {
            "image/png": "[encoded data removed]",
            "text/plain": [
              "<Figure size 432x288 with 1 Axes>"
            ]
          },
          "metadata": {
            "needs_background": "light"
          }
        }
      ]
    },
    {
      "cell_type": "code",
      "metadata": {
        "colab": {
          "base_uri": "https://localhost:8080/",
          "height": 355
        },
        "id": "d34ZPoyk60B7",
        "outputId": "e86137a4-c374-48c4-d9d7-3b4f57601457"
      },
      "source": [
        "df"
      ],
      "execution_count": 45,
      "outputs": [
        {
          "output_type": "execute_result",
          "data": {
            "text/html": [
              "<div>\n",
              "<style scoped>\n",
              "    .dataframe tbody tr th:only-of-type {\n",
              "        vertical-align: middle;\n",
              "    }\n",
              "\n",
              "    .dataframe tbody tr th {\n",
              "        vertical-align: top;\n",
              "    }\n",
              "\n",
              "    .dataframe thead th {\n",
              "        text-align: right;\n",
              "    }\n",
              "</style>\n",
              "<table border=\"1\" class=\"dataframe\">\n",
              "  <thead>\n",
              "    <tr style=\"text-align: right;\">\n",
              "      <th></th>\n",
              "      <th>a</th>\n",
              "      <th>b</th>\n",
              "      <th>c</th>\n",
              "      <th>d</th>\n",
              "    </tr>\n",
              "  </thead>\n",
              "  <tbody>\n",
              "    <tr>\n",
              "      <th>0</th>\n",
              "      <td>-1.009148</td>\n",
              "      <td>-0.249801</td>\n",
              "      <td>-0.140624</td>\n",
              "      <td>-0.964254</td>\n",
              "    </tr>\n",
              "    <tr>\n",
              "      <th>1</th>\n",
              "      <td>0.069772</td>\n",
              "      <td>-1.718656</td>\n",
              "      <td>0.464116</td>\n",
              "      <td>0.550852</td>\n",
              "    </tr>\n",
              "    <tr>\n",
              "      <th>2</th>\n",
              "      <td>0.672385</td>\n",
              "      <td>0.874068</td>\n",
              "      <td>-1.145739</td>\n",
              "      <td>-1.157210</td>\n",
              "    </tr>\n",
              "    <tr>\n",
              "      <th>3</th>\n",
              "      <td>-0.931024</td>\n",
              "      <td>-0.312668</td>\n",
              "      <td>-0.803167</td>\n",
              "      <td>-1.131800</td>\n",
              "    </tr>\n",
              "    <tr>\n",
              "      <th>4</th>\n",
              "      <td>-0.429514</td>\n",
              "      <td>-0.068633</td>\n",
              "      <td>-1.665457</td>\n",
              "      <td>-1.583115</td>\n",
              "    </tr>\n",
              "    <tr>\n",
              "      <th>5</th>\n",
              "      <td>0.123704</td>\n",
              "      <td>0.008962</td>\n",
              "      <td>1.024511</td>\n",
              "      <td>0.361159</td>\n",
              "    </tr>\n",
              "    <tr>\n",
              "      <th>6</th>\n",
              "      <td>-1.601318</td>\n",
              "      <td>1.060998</td>\n",
              "      <td>-1.079494</td>\n",
              "      <td>1.741773</td>\n",
              "    </tr>\n",
              "    <tr>\n",
              "      <th>7</th>\n",
              "      <td>-1.281908</td>\n",
              "      <td>-0.781450</td>\n",
              "      <td>-1.403001</td>\n",
              "      <td>0.095193</td>\n",
              "    </tr>\n",
              "    <tr>\n",
              "      <th>8</th>\n",
              "      <td>-0.152335</td>\n",
              "      <td>-1.382957</td>\n",
              "      <td>-0.820225</td>\n",
              "      <td>2.610547</td>\n",
              "    </tr>\n",
              "    <tr>\n",
              "      <th>9</th>\n",
              "      <td>0.976251</td>\n",
              "      <td>-0.145253</td>\n",
              "      <td>0.828414</td>\n",
              "      <td>-0.062111</td>\n",
              "    </tr>\n",
              "  </tbody>\n",
              "</table>\n",
              "</div>"
            ],
            "text/plain": [
              "          a         b         c         d\n",
              "0 -1.009148 -0.249801 -0.140624 -0.964254\n",
              "1  0.069772 -1.718656  0.464116  0.550852\n",
              "2  0.672385  0.874068 -1.145739 -1.157210\n",
              "3 -0.931024 -0.312668 -0.803167 -1.131800\n",
              "4 -0.429514 -0.068633 -1.665457 -1.583115\n",
              "5  0.123704  0.008962  1.024511  0.361159\n",
              "6 -1.601318  1.060998 -1.079494  1.741773\n",
              "7 -1.281908 -0.781450 -1.403001  0.095193\n",
              "8 -0.152335 -1.382957 -0.820225  2.610547\n",
              "9  0.976251 -0.145253  0.828414 -0.062111"
            ]
          },
          "metadata": {},
          "execution_count": 45
        }
      ]
    },
    {
      "cell_type": "code",
      "metadata": {
        "colab": {
          "base_uri": "https://localhost:8080/",
          "height": 321
        },
        "id": "gHj1F3d67ca7",
        "outputId": "e461b424-f3dd-440f-ef29-282c9278f0a5"
      },
      "source": [
        "car_sales.plot(x=\"Make\", y=\"Odometer (KM)\", kind=\"bar\")"
      ],
      "execution_count": 46,
      "outputs": [
        {
          "output_type": "execute_result",
          "data": {
            "text/plain": [
              "<matplotlib.axes._subplots.AxesSubplot at 0x7f2cbc551810>"
            ]
          },
          "metadata": {},
          "execution_count": 46
        },
        {
          "output_type": "display_data",
          "data": {
            "image/png": "[encoded data removed]",
            "text/plain": [
              "<Figure size 432x288 with 1 Axes>"
            ]
          },
          "metadata": {
            "needs_background": "light"
          }
        }
      ]
    },
    {
      "cell_type": "code",
      "metadata": {
        "colab": {
          "base_uri": "https://localhost:8080/",
          "height": 282
        },
        "id": "ZGtvIgDZ7tew",
        "outputId": "9ffd3632-2a17-491d-afff-bc093fddceae"
      },
      "source": [
        "car_sales[\"Odometer (KM)\"].plot(kind=\"hist\")"
      ],
      "execution_count": 47,
      "outputs": [
        {
          "output_type": "execute_result",
          "data": {
            "text/plain": [
              "<matplotlib.axes._subplots.AxesSubplot at 0x7f2cbc478a90>"
            ]
          },
          "metadata": {},
          "execution_count": 47
        },
        {
          "output_type": "display_data",
          "data": {
            "image/png": "[encoded data removed]",
            "text/plain": [
              "<Figure size 432x288 with 1 Axes>"
            ]
          },
          "metadata": {
            "needs_background": "light"
          }
        }
      ]
    },
    {
      "cell_type": "code",
      "metadata": {
        "colab": {
          "base_uri": "https://localhost:8080/",
          "height": 277
        },
        "id": "sV3G0oPX8E3p",
        "outputId": "45bffb6f-95b6-4c5e-faf5-7d168ad32eb6"
      },
      "source": [
        "car_sales[\"Price\"].plot.hist(bins=20)"
      ],
      "execution_count": 48,
      "outputs": [
        {
          "output_type": "display_data",
          "data": {
            "image/png": "[encoded data removed]",
            "text/plain": [
              "<Figure size 432x288 with 1 Axes>"
            ]
          },
          "metadata": {
            "needs_background": "light"
          }
        }
      ]
    },
    {
      "cell_type": "code",
      "metadata": {
        "id": "wVarCyptF3Lx"
      },
      "source": [
        "heart_disease = pd.read_csv('/content/heart-disease.csv')"
      ],
      "execution_count": 49,
      "outputs": []
    },
    {
      "cell_type": "code",
      "metadata": {
        "colab": {
          "base_uri": "https://localhost:8080/",
          "height": 414
        },
        "id": "lBxq2Ne6F-cQ",
        "outputId": "871d46b3-1962-4603-be95-66f6a8e84023"
      },
      "source": [
        "heart_disease"
      ],
      "execution_count": 50,
      "outputs": [
        {
          "output_type": "execute_result",
          "data": {
            "text/html": [
              "<div>\n",
              "<style scoped>\n",
              "    .dataframe tbody tr th:only-of-type {\n",
              "        vertical-align: middle;\n",
              "    }\n",
              "\n",
              "    .dataframe tbody tr th {\n",
              "        vertical-align: top;\n",
              "    }\n",
              "\n",
              "    .dataframe thead th {\n",
              "        text-align: right;\n",
              "    }\n",
              "</style>\n",
              "<table border=\"1\" class=\"dataframe\">\n",
              "  <thead>\n",
              "    <tr style=\"text-align: right;\">\n",
              "      <th></th>\n",
              "      <th>age</th>\n",
              "      <th>sex</th>\n",
              "      <th>cp</th>\n",
              "      <th>trestbps</th>\n",
              "      <th>chol</th>\n",
              "      <th>fbs</th>\n",
              "      <th>restecg</th>\n",
              "      <th>thalach</th>\n",
              "      <th>exang</th>\n",
              "      <th>oldpeak</th>\n",
              "      <th>slope</th>\n",
              "      <th>ca</th>\n",
              "      <th>thal</th>\n",
              "      <th>target</th>\n",
              "    </tr>\n",
              "  </thead>\n",
              "  <tbody>\n",
              "    <tr>\n",
              "      <th>0</th>\n",
              "      <td>63</td>\n",
              "      <td>1</td>\n",
              "      <td>3</td>\n",
              "      <td>145</td>\n",
              "      <td>233</td>\n",
              "      <td>1</td>\n",
              "      <td>0</td>\n",
              "      <td>150</td>\n",
              "      <td>0</td>\n",
              "      <td>2.3</td>\n",
              "      <td>0</td>\n",
              "      <td>0</td>\n",
              "      <td>1</td>\n",
              "      <td>1</td>\n",
              "    </tr>\n",
              "    <tr>\n",
              "      <th>1</th>\n",
              "      <td>37</td>\n",
              "      <td>1</td>\n",
              "      <td>2</td>\n",
              "      <td>130</td>\n",
              "      <td>250</td>\n",
              "      <td>0</td>\n",
              "      <td>1</td>\n",
              "      <td>187</td>\n",
              "      <td>0</td>\n",
              "      <td>3.5</td>\n",
              "      <td>0</td>\n",
              "      <td>0</td>\n",
              "      <td>2</td>\n",
              "      <td>1</td>\n",
              "    </tr>\n",
              "    <tr>\n",
              "      <th>2</th>\n",
              "      <td>41</td>\n",
              "      <td>0</td>\n",
              "      <td>1</td>\n",
              "      <td>130</td>\n",
              "      <td>204</td>\n",
              "      <td>0</td>\n",
              "      <td>0</td>\n",
              "      <td>172</td>\n",
              "      <td>0</td>\n",
              "      <td>1.4</td>\n",
              "      <td>2</td>\n",
              "      <td>0</td>\n",
              "      <td>2</td>\n",
              "      <td>1</td>\n",
              "    </tr>\n",
              "    <tr>\n",
              "      <th>3</th>\n",
              "      <td>56</td>\n",
              "      <td>1</td>\n",
              "      <td>1</td>\n",
              "      <td>120</td>\n",
              "      <td>236</td>\n",
              "      <td>0</td>\n",
              "      <td>1</td>\n",
              "      <td>178</td>\n",
              "      <td>0</td>\n",
              "      <td>0.8</td>\n",
              "      <td>2</td>\n",
              "      <td>0</td>\n",
              "      <td>2</td>\n",
              "      <td>1</td>\n",
              "    </tr>\n",
              "    <tr>\n",
              "      <th>4</th>\n",
              "      <td>57</td>\n",
              "      <td>0</td>\n",
              "      <td>0</td>\n",
              "      <td>120</td>\n",
              "      <td>354</td>\n",
              "      <td>0</td>\n",
              "      <td>1</td>\n",
              "      <td>163</td>\n",
              "      <td>1</td>\n",
              "      <td>0.6</td>\n",
              "      <td>2</td>\n",
              "      <td>0</td>\n",
              "      <td>2</td>\n",
              "      <td>1</td>\n",
              "    </tr>\n",
              "    <tr>\n",
              "      <th>...</th>\n",
              "      <td>...</td>\n",
              "      <td>...</td>\n",
              "      <td>...</td>\n",
              "      <td>...</td>\n",
              "      <td>...</td>\n",
              "      <td>...</td>\n",
              "      <td>...</td>\n",
              "      <td>...</td>\n",
              "      <td>...</td>\n",
              "      <td>...</td>\n",
              "      <td>...</td>\n",
              "      <td>...</td>\n",
              "      <td>...</td>\n",
              "      <td>...</td>\n",
              "    </tr>\n",
              "    <tr>\n",
              "      <th>298</th>\n",
              "      <td>57</td>\n",
              "      <td>0</td>\n",
              "      <td>0</td>\n",
              "      <td>140</td>\n",
              "      <td>241</td>\n",
              "      <td>0</td>\n",
              "      <td>1</td>\n",
              "      <td>123</td>\n",
              "      <td>1</td>\n",
              "      <td>0.2</td>\n",
              "      <td>1</td>\n",
              "      <td>0</td>\n",
              "      <td>3</td>\n",
              "      <td>0</td>\n",
              "    </tr>\n",
              "    <tr>\n",
              "      <th>299</th>\n",
              "      <td>45</td>\n",
              "      <td>1</td>\n",
              "      <td>3</td>\n",
              "      <td>110</td>\n",
              "      <td>264</td>\n",
              "      <td>0</td>\n",
              "      <td>1</td>\n",
              "      <td>132</td>\n",
              "      <td>0</td>\n",
              "      <td>1.2</td>\n",
              "      <td>1</td>\n",
              "      <td>0</td>\n",
              "      <td>3</td>\n",
              "      <td>0</td>\n",
              "    </tr>\n",
              "    <tr>\n",
              "      <th>300</th>\n",
              "      <td>68</td>\n",
              "      <td>1</td>\n",
              "      <td>0</td>\n",
              "      <td>144</td>\n",
              "      <td>193</td>\n",
              "      <td>1</td>\n",
              "      <td>1</td>\n",
              "      <td>141</td>\n",
              "      <td>0</td>\n",
              "      <td>3.4</td>\n",
              "      <td>1</td>\n",
              "      <td>2</td>\n",
              "      <td>3</td>\n",
              "      <td>0</td>\n",
              "    </tr>\n",
              "    <tr>\n",
              "      <th>301</th>\n",
              "      <td>57</td>\n",
              "      <td>1</td>\n",
              "      <td>0</td>\n",
              "      <td>130</td>\n",
              "      <td>131</td>\n",
              "      <td>0</td>\n",
              "      <td>1</td>\n",
              "      <td>115</td>\n",
              "      <td>1</td>\n",
              "      <td>1.2</td>\n",
              "      <td>1</td>\n",
              "      <td>1</td>\n",
              "      <td>3</td>\n",
              "      <td>0</td>\n",
              "    </tr>\n",
              "    <tr>\n",
              "      <th>302</th>\n",
              "      <td>57</td>\n",
              "      <td>0</td>\n",
              "      <td>1</td>\n",
              "      <td>130</td>\n",
              "      <td>236</td>\n",
              "      <td>0</td>\n",
              "      <td>0</td>\n",
              "      <td>174</td>\n",
              "      <td>0</td>\n",
              "      <td>0.0</td>\n",
              "      <td>1</td>\n",
              "      <td>1</td>\n",
              "      <td>2</td>\n",
              "      <td>0</td>\n",
              "    </tr>\n",
              "  </tbody>\n",
              "</table>\n",
              "<p>303 rows × 14 columns</p>\n",
              "</div>"
            ],
            "text/plain": [
              "     age  sex  cp  trestbps  chol  fbs  ...  exang  oldpeak  slope  ca  thal  target\n",
              "0     63    1   3       145   233    1  ...      0      2.3      0   0     1       1\n",
              "1     37    1   2       130   250    0  ...      0      3.5      0   0     2       1\n",
              "2     41    0   1       130   204    0  ...      0      1.4      2   0     2       1\n",
              "3     56    1   1       120   236    0  ...      0      0.8      2   0     2       1\n",
              "4     57    0   0       120   354    0  ...      1      0.6      2   0     2       1\n",
              "..   ...  ...  ..       ...   ...  ...  ...    ...      ...    ...  ..   ...     ...\n",
              "298   57    0   0       140   241    0  ...      1      0.2      1   0     3       0\n",
              "299   45    1   3       110   264    0  ...      0      1.2      1   0     3       0\n",
              "300   68    1   0       144   193    1  ...      0      3.4      1   2     3       0\n",
              "301   57    1   0       130   131    0  ...      1      1.2      1   1     3       0\n",
              "302   57    0   1       130   236    0  ...      0      0.0      1   1     2       0\n",
              "\n",
              "[303 rows x 14 columns]"
            ]
          },
          "metadata": {},
          "execution_count": 50
        }
      ]
    },
    {
      "cell_type": "code",
      "metadata": {
        "colab": {
          "base_uri": "https://localhost:8080/",
          "height": 355
        },
        "id": "5A1yScEoGRXC",
        "outputId": "f496a761-6b65-4c96-c22a-82daf908c18d"
      },
      "source": [
        "heart_disease.head(10)"
      ],
      "execution_count": 51,
      "outputs": [
        {
          "output_type": "execute_result",
          "data": {
            "text/html": [
              "<div>\n",
              "<style scoped>\n",
              "    .dataframe tbody tr th:only-of-type {\n",
              "        vertical-align: middle;\n",
              "    }\n",
              "\n",
              "    .dataframe tbody tr th {\n",
              "        vertical-align: top;\n",
              "    }\n",
              "\n",
              "    .dataframe thead th {\n",
              "        text-align: right;\n",
              "    }\n",
              "</style>\n",
              "<table border=\"1\" class=\"dataframe\">\n",
              "  <thead>\n",
              "    <tr style=\"text-align: right;\">\n",
              "      <th></th>\n",
              "      <th>age</th>\n",
              "      <th>sex</th>\n",
              "      <th>cp</th>\n",
              "      <th>trestbps</th>\n",
              "      <th>chol</th>\n",
              "      <th>fbs</th>\n",
              "      <th>restecg</th>\n",
              "      <th>thalach</th>\n",
              "      <th>exang</th>\n",
              "      <th>oldpeak</th>\n",
              "      <th>slope</th>\n",
              "      <th>ca</th>\n",
              "      <th>thal</th>\n",
              "      <th>target</th>\n",
              "    </tr>\n",
              "  </thead>\n",
              "  <tbody>\n",
              "    <tr>\n",
              "      <th>0</th>\n",
              "      <td>63</td>\n",
              "      <td>1</td>\n",
              "      <td>3</td>\n",
              "      <td>145</td>\n",
              "      <td>233</td>\n",
              "      <td>1</td>\n",
              "      <td>0</td>\n",
              "      <td>150</td>\n",
              "      <td>0</td>\n",
              "      <td>2.3</td>\n",
              "      <td>0</td>\n",
              "      <td>0</td>\n",
              "      <td>1</td>\n",
              "      <td>1</td>\n",
              "    </tr>\n",
              "    <tr>\n",
              "      <th>1</th>\n",
              "      <td>37</td>\n",
              "      <td>1</td>\n",
              "      <td>2</td>\n",
              "      <td>130</td>\n",
              "      <td>250</td>\n",
              "      <td>0</td>\n",
              "      <td>1</td>\n",
              "      <td>187</td>\n",
              "      <td>0</td>\n",
              "      <td>3.5</td>\n",
              "      <td>0</td>\n",
              "      <td>0</td>\n",
              "      <td>2</td>\n",
              "      <td>1</td>\n",
              "    </tr>\n",
              "    <tr>\n",
              "      <th>2</th>\n",
              "      <td>41</td>\n",
              "      <td>0</td>\n",
              "      <td>1</td>\n",
              "      <td>130</td>\n",
              "      <td>204</td>\n",
              "      <td>0</td>\n",
              "      <td>0</td>\n",
              "      <td>172</td>\n",
              "      <td>0</td>\n",
              "      <td>1.4</td>\n",
              "      <td>2</td>\n",
              "      <td>0</td>\n",
              "      <td>2</td>\n",
              "      <td>1</td>\n",
              "    </tr>\n",
              "    <tr>\n",
              "      <th>3</th>\n",
              "      <td>56</td>\n",
              "      <td>1</td>\n",
              "      <td>1</td>\n",
              "      <td>120</td>\n",
              "      <td>236</td>\n",
              "      <td>0</td>\n",
              "      <td>1</td>\n",
              "      <td>178</td>\n",
              "      <td>0</td>\n",
              "      <td>0.8</td>\n",
              "      <td>2</td>\n",
              "      <td>0</td>\n",
              "      <td>2</td>\n",
              "      <td>1</td>\n",
              "    </tr>\n",
              "    <tr>\n",
              "      <th>4</th>\n",
              "      <td>57</td>\n",
              "      <td>0</td>\n",
              "      <td>0</td>\n",
              "      <td>120</td>\n",
              "      <td>354</td>\n",
              "      <td>0</td>\n",
              "      <td>1</td>\n",
              "      <td>163</td>\n",
              "      <td>1</td>\n",
              "      <td>0.6</td>\n",
              "      <td>2</td>\n",
              "      <td>0</td>\n",
              "      <td>2</td>\n",
              "      <td>1</td>\n",
              "    </tr>\n",
              "    <tr>\n",
              "      <th>5</th>\n",
              "      <td>57</td>\n",
              "      <td>1</td>\n",
              "      <td>0</td>\n",
              "      <td>140</td>\n",
              "      <td>192</td>\n",
              "      <td>0</td>\n",
              "      <td>1</td>\n",
              "      <td>148</td>\n",
              "      <td>0</td>\n",
              "      <td>0.4</td>\n",
              "      <td>1</td>\n",
              "      <td>0</td>\n",
              "      <td>1</td>\n",
              "      <td>1</td>\n",
              "    </tr>\n",
              "    <tr>\n",
              "      <th>6</th>\n",
              "      <td>56</td>\n",
              "      <td>0</td>\n",
              "      <td>1</td>\n",
              "      <td>140</td>\n",
              "      <td>294</td>\n",
              "      <td>0</td>\n",
              "      <td>0</td>\n",
              "      <td>153</td>\n",
              "      <td>0</td>\n",
              "      <td>1.3</td>\n",
              "      <td>1</td>\n",
              "      <td>0</td>\n",
              "      <td>2</td>\n",
              "      <td>1</td>\n",
              "    </tr>\n",
              "    <tr>\n",
              "      <th>7</th>\n",
              "      <td>44</td>\n",
              "      <td>1</td>\n",
              "      <td>1</td>\n",
              "      <td>120</td>\n",
              "      <td>263</td>\n",
              "      <td>0</td>\n",
              "      <td>1</td>\n",
              "      <td>173</td>\n",
              "      <td>0</td>\n",
              "      <td>0.0</td>\n",
              "      <td>2</td>\n",
              "      <td>0</td>\n",
              "      <td>3</td>\n",
              "      <td>1</td>\n",
              "    </tr>\n",
              "    <tr>\n",
              "      <th>8</th>\n",
              "      <td>52</td>\n",
              "      <td>1</td>\n",
              "      <td>2</td>\n",
              "      <td>172</td>\n",
              "      <td>199</td>\n",
              "      <td>1</td>\n",
              "      <td>1</td>\n",
              "      <td>162</td>\n",
              "      <td>0</td>\n",
              "      <td>0.5</td>\n",
              "      <td>2</td>\n",
              "      <td>0</td>\n",
              "      <td>3</td>\n",
              "      <td>1</td>\n",
              "    </tr>\n",
              "    <tr>\n",
              "      <th>9</th>\n",
              "      <td>57</td>\n",
              "      <td>1</td>\n",
              "      <td>2</td>\n",
              "      <td>150</td>\n",
              "      <td>168</td>\n",
              "      <td>0</td>\n",
              "      <td>1</td>\n",
              "      <td>174</td>\n",
              "      <td>0</td>\n",
              "      <td>1.6</td>\n",
              "      <td>2</td>\n",
              "      <td>0</td>\n",
              "      <td>2</td>\n",
              "      <td>1</td>\n",
              "    </tr>\n",
              "  </tbody>\n",
              "</table>\n",
              "</div>"
            ],
            "text/plain": [
              "   age  sex  cp  trestbps  chol  fbs  ...  exang  oldpeak  slope  ca  thal  target\n",
              "0   63    1   3       145   233    1  ...      0      2.3      0   0     1       1\n",
              "1   37    1   2       130   250    0  ...      0      3.5      0   0     2       1\n",
              "2   41    0   1       130   204    0  ...      0      1.4      2   0     2       1\n",
              "3   56    1   1       120   236    0  ...      0      0.8      2   0     2       1\n",
              "4   57    0   0       120   354    0  ...      1      0.6      2   0     2       1\n",
              "5   57    1   0       140   192    0  ...      0      0.4      1   0     1       1\n",
              "6   56    0   1       140   294    0  ...      0      1.3      1   0     2       1\n",
              "7   44    1   1       120   263    0  ...      0      0.0      2   0     3       1\n",
              "8   52    1   2       172   199    1  ...      0      0.5      2   0     3       1\n",
              "9   57    1   2       150   168    0  ...      0      1.6      2   0     2       1\n",
              "\n",
              "[10 rows x 14 columns]"
            ]
          },
          "metadata": {},
          "execution_count": 51
        }
      ]
    },
    {
      "cell_type": "code",
      "metadata": {
        "colab": {
          "base_uri": "https://localhost:8080/",
          "height": 282
        },
        "id": "mvdnQONKGb_s",
        "outputId": "eb216ef7-deca-4fd6-d1c2-9c6d35f54121"
      },
      "source": [
        "heart_disease[\"age\"].hist(bins=50)"
      ],
      "execution_count": 52,
      "outputs": [
        {
          "output_type": "execute_result",
          "data": {
            "text/plain": [
              "<matplotlib.axes._subplots.AxesSubplot at 0x7f2cbc463890>"
            ]
          },
          "metadata": {},
          "execution_count": 52
        },
        {
          "output_type": "display_data",
          "data": {
            "image/png": "[encoded data removed]",
            "text/plain": [
              "<Figure size 432x288 with 1 Axes>"
            ]
          },
          "metadata": {
            "needs_background": "light"
          }
        }
      ]
    },
    {
      "cell_type": "code",
      "metadata": {
        "colab": {
          "base_uri": "https://localhost:8080/",
          "height": 553
        },
        "id": "GjnI1xntGoKM",
        "outputId": "84789fe1-0e67-4850-f6b5-ab135287069c"
      },
      "source": [
        "heart_disease.plot.hist(subplots=True)"
      ],
      "execution_count": 53,
      "outputs": [
        {
          "output_type": "execute_result",
          "data": {
            "text/plain": [
              "array([<matplotlib.axes._subplots.AxesSubplot object at 0x7f2cbd0621d0>,\n",
              "       <matplotlib.axes._subplots.AxesSubplot object at 0x7f2cbcfd5510>,\n",
              "       <matplotlib.axes._subplots.AxesSubplot object at 0x7f2cbcd85790>,\n",
              "       <matplotlib.axes._subplots.AxesSubplot object at 0x7f2cbcd73690>,\n",
              "       <matplotlib.axes._subplots.AxesSubplot object at 0x7f2cbd1d9c50>,\n",
              "       <matplotlib.axes._subplots.AxesSubplot object at 0x7f2cbc40b190>,\n",
              "       <matplotlib.axes._subplots.AxesSubplot object at 0x7f2cbc2e5c10>,\n",
              "       <matplotlib.axes._subplots.AxesSubplot object at 0x7f2cbc29dfd0>,\n",
              "       <matplotlib.axes._subplots.AxesSubplot object at 0x7f2cbc260410>,\n",
              "       <matplotlib.axes._subplots.AxesSubplot object at 0x7f2cbc2177d0>,\n",
              "       <matplotlib.axes._subplots.AxesSubplot object at 0x7f2cbc24eb50>,\n",
              "       <matplotlib.axes._subplots.AxesSubplot object at 0x7f2cbc208f10>,\n",
              "       <matplotlib.axes._subplots.AxesSubplot object at 0x7f2cbc1cb310>,\n",
              "       <matplotlib.axes._subplots.AxesSubplot object at 0x7f2cbc1806d0>],\n",
              "      dtype=object)"
            ]
          },
          "metadata": {},
          "execution_count": 53
        },
        {
          "output_type": "display_data",
          "data": {
            "image/png": "[encoded data removed]",
            "text/plain": [
              "<Figure size 432x288 with 14 Axes>"
            ]
          },
          "metadata": {
            "needs_background": "light"
          }
        }
      ]
    },
    {
      "cell_type": "code",
      "metadata": {
        "colab": {
          "base_uri": "https://localhost:8080/",
          "height": 1000
        },
        "id": "wzGKeg6PIBAH",
        "outputId": "451c8454-2273-422e-8789-143870c6dc20"
      },
      "source": [
        "heart_disease.plot.hist(figsize=(10, 30), subplots=True); #plotting each column with a help of subplots "
      ],
      "execution_count": 54,
      "outputs": [
        {
          "output_type": "display_data",
          "data": {
            "image/png": "[encoded data removed]",
            "text/plain": [
              "<Figure size 720x2160 with 14 Axes>"
            ]
          },
          "metadata": {
            "needs_background": "light"
          }
        }
      ]
    },
    {
      "cell_type": "code",
      "metadata": {
        "colab": {
          "base_uri": "https://localhost:8080/",
          "height": 414
        },
        "id": "Rz-52rTokNnU",
        "outputId": "3b6de97c-8968-4fa3-c06c-7b6f95715cc2"
      },
      "source": [
        "heart_disease"
      ],
      "execution_count": 55,
      "outputs": [
        {
          "output_type": "execute_result",
          "data": {
            "text/html": [
              "<div>\n",
              "<style scoped>\n",
              "    .dataframe tbody tr th:only-of-type {\n",
              "        vertical-align: middle;\n",
              "    }\n",
              "\n",
              "    .dataframe tbody tr th {\n",
              "        vertical-align: top;\n",
              "    }\n",
              "\n",
              "    .dataframe thead th {\n",
              "        text-align: right;\n",
              "    }\n",
              "</style>\n",
              "<table border=\"1\" class=\"dataframe\">\n",
              "  <thead>\n",
              "    <tr style=\"text-align: right;\">\n",
              "      <th></th>\n",
              "      <th>age</th>\n",
              "      <th>sex</th>\n",
              "      <th>cp</th>\n",
              "      <th>trestbps</th>\n",
              "      <th>chol</th>\n",
              "      <th>fbs</th>\n",
              "      <th>restecg</th>\n",
              "      <th>thalach</th>\n",
              "      <th>exang</th>\n",
              "      <th>oldpeak</th>\n",
              "      <th>slope</th>\n",
              "      <th>ca</th>\n",
              "      <th>thal</th>\n",
              "      <th>target</th>\n",
              "    </tr>\n",
              "  </thead>\n",
              "  <tbody>\n",
              "    <tr>\n",
              "      <th>0</th>\n",
              "      <td>63</td>\n",
              "      <td>1</td>\n",
              "      <td>3</td>\n",
              "      <td>145</td>\n",
              "      <td>233</td>\n",
              "      <td>1</td>\n",
              "      <td>0</td>\n",
              "      <td>150</td>\n",
              "      <td>0</td>\n",
              "      <td>2.3</td>\n",
              "      <td>0</td>\n",
              "      <td>0</td>\n",
              "      <td>1</td>\n",
              "      <td>1</td>\n",
              "    </tr>\n",
              "    <tr>\n",
              "      <th>1</th>\n",
              "      <td>37</td>\n",
              "      <td>1</td>\n",
              "      <td>2</td>\n",
              "      <td>130</td>\n",
              "      <td>250</td>\n",
              "      <td>0</td>\n",
              "      <td>1</td>\n",
              "      <td>187</td>\n",
              "      <td>0</td>\n",
              "      <td>3.5</td>\n",
              "      <td>0</td>\n",
              "      <td>0</td>\n",
              "      <td>2</td>\n",
              "      <td>1</td>\n",
              "    </tr>\n",
              "    <tr>\n",
              "      <th>2</th>\n",
              "      <td>41</td>\n",
              "      <td>0</td>\n",
              "      <td>1</td>\n",
              "      <td>130</td>\n",
              "      <td>204</td>\n",
              "      <td>0</td>\n",
              "      <td>0</td>\n",
              "      <td>172</td>\n",
              "      <td>0</td>\n",
              "      <td>1.4</td>\n",
              "      <td>2</td>\n",
              "      <td>0</td>\n",
              "      <td>2</td>\n",
              "      <td>1</td>\n",
              "    </tr>\n",
              "    <tr>\n",
              "      <th>3</th>\n",
              "      <td>56</td>\n",
              "      <td>1</td>\n",
              "      <td>1</td>\n",
              "      <td>120</td>\n",
              "      <td>236</td>\n",
              "      <td>0</td>\n",
              "      <td>1</td>\n",
              "      <td>178</td>\n",
              "      <td>0</td>\n",
              "      <td>0.8</td>\n",
              "      <td>2</td>\n",
              "      <td>0</td>\n",
              "      <td>2</td>\n",
              "      <td>1</td>\n",
              "    </tr>\n",
              "    <tr>\n",
              "      <th>4</th>\n",
              "      <td>57</td>\n",
              "      <td>0</td>\n",
              "      <td>0</td>\n",
              "      <td>120</td>\n",
              "      <td>354</td>\n",
              "      <td>0</td>\n",
              "      <td>1</td>\n",
              "      <td>163</td>\n",
              "      <td>1</td>\n",
              "      <td>0.6</td>\n",
              "      <td>2</td>\n",
              "      <td>0</td>\n",
              "      <td>2</td>\n",
              "      <td>1</td>\n",
              "    </tr>\n",
              "    <tr>\n",
              "      <th>...</th>\n",
              "      <td>...</td>\n",
              "      <td>...</td>\n",
              "      <td>...</td>\n",
              "      <td>...</td>\n",
              "      <td>...</td>\n",
              "      <td>...</td>\n",
              "      <td>...</td>\n",
              "      <td>...</td>\n",
              "      <td>...</td>\n",
              "      <td>...</td>\n",
              "      <td>...</td>\n",
              "      <td>...</td>\n",
              "      <td>...</td>\n",
              "      <td>...</td>\n",
              "    </tr>\n",
              "    <tr>\n",
              "      <th>298</th>\n",
              "      <td>57</td>\n",
              "      <td>0</td>\n",
              "      <td>0</td>\n",
              "      <td>140</td>\n",
              "      <td>241</td>\n",
              "      <td>0</td>\n",
              "      <td>1</td>\n",
              "      <td>123</td>\n",
              "      <td>1</td>\n",
              "      <td>0.2</td>\n",
              "      <td>1</td>\n",
              "      <td>0</td>\n",
              "      <td>3</td>\n",
              "      <td>0</td>\n",
              "    </tr>\n",
              "    <tr>\n",
              "      <th>299</th>\n",
              "      <td>45</td>\n",
              "      <td>1</td>\n",
              "      <td>3</td>\n",
              "      <td>110</td>\n",
              "      <td>264</td>\n",
              "      <td>0</td>\n",
              "      <td>1</td>\n",
              "      <td>132</td>\n",
              "      <td>0</td>\n",
              "      <td>1.2</td>\n",
              "      <td>1</td>\n",
              "      <td>0</td>\n",
              "      <td>3</td>\n",
              "      <td>0</td>\n",
              "    </tr>\n",
              "    <tr>\n",
              "      <th>300</th>\n",
              "      <td>68</td>\n",
              "      <td>1</td>\n",
              "      <td>0</td>\n",
              "      <td>144</td>\n",
              "      <td>193</td>\n",
              "      <td>1</td>\n",
              "      <td>1</td>\n",
              "      <td>141</td>\n",
              "      <td>0</td>\n",
              "      <td>3.4</td>\n",
              "      <td>1</td>\n",
              "      <td>2</td>\n",
              "      <td>3</td>\n",
              "      <td>0</td>\n",
              "    </tr>\n",
              "    <tr>\n",
              "      <th>301</th>\n",
              "      <td>57</td>\n",
              "      <td>1</td>\n",
              "      <td>0</td>\n",
              "      <td>130</td>\n",
              "      <td>131</td>\n",
              "      <td>0</td>\n",
              "      <td>1</td>\n",
              "      <td>115</td>\n",
              "      <td>1</td>\n",
              "      <td>1.2</td>\n",
              "      <td>1</td>\n",
              "      <td>1</td>\n",
              "      <td>3</td>\n",
              "      <td>0</td>\n",
              "    </tr>\n",
              "    <tr>\n",
              "      <th>302</th>\n",
              "      <td>57</td>\n",
              "      <td>0</td>\n",
              "      <td>1</td>\n",
              "      <td>130</td>\n",
              "      <td>236</td>\n",
              "      <td>0</td>\n",
              "      <td>0</td>\n",
              "      <td>174</td>\n",
              "      <td>0</td>\n",
              "      <td>0.0</td>\n",
              "      <td>1</td>\n",
              "      <td>1</td>\n",
              "      <td>2</td>\n",
              "      <td>0</td>\n",
              "    </tr>\n",
              "  </tbody>\n",
              "</table>\n",
              "<p>303 rows × 14 columns</p>\n",
              "</div>"
            ],
            "text/plain": [
              "     age  sex  cp  trestbps  chol  fbs  ...  exang  oldpeak  slope  ca  thal  target\n",
              "0     63    1   3       145   233    1  ...      0      2.3      0   0     1       1\n",
              "1     37    1   2       130   250    0  ...      0      3.5      0   0     2       1\n",
              "2     41    0   1       130   204    0  ...      0      1.4      2   0     2       1\n",
              "3     56    1   1       120   236    0  ...      0      0.8      2   0     2       1\n",
              "4     57    0   0       120   354    0  ...      1      0.6      2   0     2       1\n",
              "..   ...  ...  ..       ...   ...  ...  ...    ...      ...    ...  ..   ...     ...\n",
              "298   57    0   0       140   241    0  ...      1      0.2      1   0     3       0\n",
              "299   45    1   3       110   264    0  ...      0      1.2      1   0     3       0\n",
              "300   68    1   0       144   193    1  ...      0      3.4      1   2     3       0\n",
              "301   57    1   0       130   131    0  ...      1      1.2      1   1     3       0\n",
              "302   57    0   1       130   236    0  ...      0      0.0      1   1     2       0\n",
              "\n",
              "[303 rows x 14 columns]"
            ]
          },
          "metadata": {},
          "execution_count": 55
        }
      ]
    },
    {
      "cell_type": "code",
      "metadata": {
        "colab": {
          "base_uri": "https://localhost:8080/",
          "height": 422
        },
        "id": "y1yRIK0plNiR",
        "outputId": "9a88d05d-f525-476a-d258-d06983eea6a9"
      },
      "source": [
        "over_50 = heart_disease[heart_disease[\"age\"]>50] #Question 37\n",
        "\n",
        "fig,ax=plt.subplots(figsize=(10, 6))\n",
        "\n",
        "scatter = ax.scatter(over_50['age'],\n",
        "                     over_50['chol'],\n",
        "                     c = over_50['target'])\n",
        "ax.set(title=\"Heart disease and cholesterol level\", xlabel=\"PavelAge\", ylabel=\"MishaCholesterol\")\n",
        "\n",
        "ax.legend(*scatter.legend_elements(), title=\"Heart Problem Target\")\n",
        "\n",
        "ax.axhline(over_50['chol'].mean(), color=\"g\", linestyle=\"--\")\n",
        "\n"
      ],
      "execution_count": 56,
      "outputs": [
        {
          "output_type": "execute_result",
          "data": {
            "text/plain": [
              "<matplotlib.lines.Line2D at 0x7f2cbb9182d0>"
            ]
          },
          "metadata": {},
          "execution_count": 56
        },
        {
          "output_type": "display_data",
          "data": {
            "image/png": "[encoded data removed]",
            "text/plain": [
              "<Figure size 720x432 with 1 Axes>"
            ]
          },
          "metadata": {
            "needs_background": "light"
          }
        }
      ]
    },
    {
      "cell_type": "code",
      "metadata": {
        "colab": {
          "base_uri": "https://localhost:8080/"
        },
        "id": "ZyEzwUxqlYxF",
        "outputId": "2b29a6e2-0ffd-427e-da39-87ffdbc8fa0f"
      },
      "source": [
        "plt.style.available"
      ],
      "execution_count": 57,
      "outputs": [
        {
          "output_type": "execute_result",
          "data": {
            "text/plain": [
              "['Solarize_Light2',\n",
              " '_classic_test_patch',\n",
              " 'bmh',\n",
              " 'classic',\n",
              " 'dark_background',\n",
              " 'fast',\n",
              " 'fivethirtyeight',\n",
              " 'ggplot',\n",
              " 'grayscale',\n",
              " 'seaborn',\n",
              " 'seaborn-bright',\n",
              " 'seaborn-colorblind',\n",
              " 'seaborn-dark',\n",
              " 'seaborn-dark-palette',\n",
              " 'seaborn-darkgrid',\n",
              " 'seaborn-deep',\n",
              " 'seaborn-muted',\n",
              " 'seaborn-notebook',\n",
              " 'seaborn-paper',\n",
              " 'seaborn-pastel',\n",
              " 'seaborn-poster',\n",
              " 'seaborn-talk',\n",
              " 'seaborn-ticks',\n",
              " 'seaborn-white',\n",
              " 'seaborn-whitegrid',\n",
              " 'tableau-colorblind10']"
            ]
          },
          "metadata": {},
          "execution_count": 57
        }
      ]
    },
    {
      "cell_type": "code",
      "metadata": {
        "id": "c4_aPjmv6ZPG"
      },
      "source": [
        "plt.style.use(\"seaborn-pastel\")"
      ],
      "execution_count": 67,
      "outputs": []
    },
    {
      "cell_type": "code",
      "metadata": {
        "colab": {
          "base_uri": "https://localhost:8080/",
          "height": 283
        },
        "id": "29Ox9CPd6hPl",
        "outputId": "c334b5e2-c66a-4bc5-b63b-712a134ed6b8"
      },
      "source": [
        "heart_disease[\"chol\"].plot();"
      ],
      "execution_count": 68,
      "outputs": [
        {
          "output_type": "display_data",
          "data": {
            "image/png": "[encoded data removed]",
            "text/plain": [
              "<Figure size 460.8x316.8 with 1 Axes>"
            ]
          },
          "metadata": {}
        }
      ]
    },
    {
      "cell_type": "code",
      "metadata": {
        "id": "E4kW_ciL7KOC"
      },
      "source": [
        "plt.style.use(\"seaborn-whitegrid\")"
      ],
      "execution_count": 71,
      "outputs": []
    },
    {
      "cell_type": "code",
      "metadata": {
        "colab": {
          "base_uri": "https://localhost:8080/",
          "height": 283
        },
        "id": "RSIJW2FC7SuR",
        "outputId": "c256ce85-bce6-4c8e-b684-c18b768fb00f"
      },
      "source": [
        "heart_disease[\"age\"].plot();"
      ],
      "execution_count": 70,
      "outputs": [
        {
          "output_type": "display_data",
          "data": {
            "image/png": "[encoded data removed]",
            "text/plain": [
              "<Figure size 460.8x316.8 with 1 Axes>"
            ]
          },
          "metadata": {}
        }
      ]
    },
    {
      "cell_type": "code",
      "metadata": {
        "colab": {
          "base_uri": "https://localhost:8080/",
          "height": 414
        },
        "id": "hzitwj537a6K",
        "outputId": "f951a443-568f-4256-e426-28c32254cff5"
      },
      "source": [
        "over_50 = heart_disease[heart_disease[\"age\"]>50] #Question 40\n",
        "\n",
        "fig,ax=plt.subplots(figsize=(10, 6))\n",
        "\n",
        "scatter = ax.scatter(over_50['age'],\n",
        "                     over_50['chol'],\n",
        "                     c = over_50['target'])\n",
        "ax.set(title=\"Heart disease and cholesterol level\", xlabel=\"PavelAge\", ylabel=\"MishaCholesterol\")\n",
        "\n",
        "ax.legend(*scatter.legend_elements(), title=\"Heart Problem Target\")\n",
        "\n",
        "ax.axhline(over_50['chol'].mean(), color=\"g\", linestyle=\"--\")"
      ],
      "execution_count": 72,
      "outputs": [
        {
          "output_type": "execute_result",
          "data": {
            "text/plain": [
              "<matplotlib.lines.Line2D at 0x7f2cbb7dbdd0>"
            ]
          },
          "metadata": {},
          "execution_count": 72
        },
        {
          "output_type": "display_data",
          "data": {
            "image/png": "[encoded data removed]",
            "text/plain": [
              "<Figure size 720x432 with 1 Axes>"
            ]
          },
          "metadata": {}
        }
      ]
    },
    {
      "cell_type": "code",
      "metadata": {
        "colab": {
          "base_uri": "https://localhost:8080/",
          "height": 414
        },
        "id": "FuUD6Aih8DE6",
        "outputId": "32f55022-2e3f-4f7a-c327-07446ec13fb2"
      },
      "source": [
        "over_50 = heart_disease[heart_disease[\"age\"]>50] #Question 41\n",
        "\n",
        "fig,ax=plt.subplots(figsize=(10, 6))\n",
        "\n",
        "scatter = ax.scatter(over_50['age'],\n",
        "                     over_50['chol'],\n",
        "                     c = over_50['target'],\n",
        "                     cmap=\"winter\")\n",
        "ax.set(title=\"Heart disease and cholesterol level\", xlabel=\"PavelAge\", ylabel=\"MishaCholesterol\")\n",
        "\n",
        "ax.legend(*scatter.legend_elements(), title=\"Heart Problem Target\")\n",
        "\n",
        "ax.axhline(over_50['chol'].mean(), color=\"r\", linestyle=\"--\")"
      ],
      "execution_count": 73,
      "outputs": [
        {
          "output_type": "execute_result",
          "data": {
            "text/plain": [
              "<matplotlib.lines.Line2D at 0x7f2cbbb73f10>"
            ]
          },
          "metadata": {},
          "execution_count": 73
        },
        {
          "output_type": "display_data",
          "data": {
            "image/png": "[encoded data removed]",
            "text/plain": [
              "<Figure size 720x432 with 1 Axes>"
            ]
          },
          "metadata": {}
        }
      ]
    },
    {
      "cell_type": "code",
      "metadata": {
        "id": "OOqN39Ql-NhR"
      },
      "source": [
        "fig.savefig('/content/review.PNG') #Question 42"
      ],
      "execution_count": 74,
      "outputs": []
    },
    {
      "cell_type": "code",
      "metadata": {
        "colab": {
          "base_uri": "https://localhost:8080/",
          "height": 284
        },
        "id": "vdIrLBBS-gDS",
        "outputId": "37e2b5a8-6585-4bc2-c715-3e8efa5994f7"
      },
      "source": [
        "fig, ax = plt.subplots() #Question 43"
      ],
      "execution_count": 75,
      "outputs": [
        {
          "output_type": "display_data",
          "data": {
            "image/png": "[encoded data removed]",
            "text/plain": [
              "<Figure size 460.8x316.8 with 1 Axes>"
            ]
          },
          "metadata": {}
        }
      ]
    }
  ]
}